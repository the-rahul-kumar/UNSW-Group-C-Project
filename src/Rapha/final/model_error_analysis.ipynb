{
 "cells": [
  {
   "cell_type": "markdown",
   "metadata": {},
   "source": [
    "# Model error analysis notebook\n",
    "For error analysis workflow of PV vs non-PV trained models. Uses the v1.0 or v2.0 master datasets to retrieve actual TOTALDEMAND values, together with supporting data such as TEMPERATURE, POWER, etc.\n",
    "\n",
    "Expects two input experiment files of predictions (one with PV, one without PV) over an equivalent forecast date range.\n",
    "Experiments files are a 2-column .CSV of format:\n",
    "DATETIME                TOTALDEMAND\n",
    "YYYY-MM-DD HH:MM:SS     Float\n",
    "\n",
    "These names of these input files are specified in the PV_FILE and NO_PV_FILE variables (see below). The main datafile that is used for comparison is specified in ACTUALS_FILE\n",
    "\n",
    "At this point, the notebook processes data on a state-by-state basis. The state being analysed must be specified in the STATE variable."
   ]
  },
  {
   "cell_type": "code",
   "execution_count": 1,
   "metadata": {},
   "outputs": [],
   "source": [
    "#!pip install darts"
   ]
  },
  {
   "cell_type": "code",
   "execution_count": 2,
   "metadata": {},
   "outputs": [
    {
     "ename": "ImportError",
     "evalue": "cannot import name 'TimeSeries' from 'darts' (unknown location)",
     "output_type": "error",
     "traceback": [
      "\u001b[1;31m---------------------------------------------------------------------------\u001b[0m",
      "\u001b[1;31mImportError\u001b[0m                               Traceback (most recent call last)",
      "\u001b[1;32m~\\AppData\\Local\\Temp\\ipykernel_26776\\2381495096.py\u001b[0m in \u001b[0;36m<module>\u001b[1;34m\u001b[0m\n\u001b[1;32m----> 1\u001b[1;33m \u001b[1;32mfrom\u001b[0m \u001b[0mdarts\u001b[0m \u001b[1;32mimport\u001b[0m \u001b[0mTimeSeries\u001b[0m\u001b[1;33m\u001b[0m\u001b[1;33m\u001b[0m\u001b[0m\n\u001b[0m\u001b[0;32m      2\u001b[0m \u001b[1;32mfrom\u001b[0m \u001b[0mdarts\u001b[0m\u001b[1;33m.\u001b[0m\u001b[0mmetrics\u001b[0m \u001b[1;32mimport\u001b[0m \u001b[0mmape\u001b[0m\u001b[1;33m,\u001b[0m \u001b[0mrmse\u001b[0m\u001b[1;33m\u001b[0m\u001b[1;33m\u001b[0m\u001b[0m\n\u001b[0;32m      3\u001b[0m \u001b[1;32mimport\u001b[0m \u001b[0mpandas\u001b[0m \u001b[1;32mas\u001b[0m \u001b[0mpd\u001b[0m\u001b[1;33m\u001b[0m\u001b[1;33m\u001b[0m\u001b[0m\n\u001b[0;32m      4\u001b[0m \u001b[1;32mimport\u001b[0m \u001b[0mmatplotlib\u001b[0m\u001b[1;33m.\u001b[0m\u001b[0mpyplot\u001b[0m \u001b[1;32mas\u001b[0m \u001b[0mplt\u001b[0m\u001b[1;33m\u001b[0m\u001b[1;33m\u001b[0m\u001b[0m\n\u001b[0;32m      5\u001b[0m \u001b[1;32mimport\u001b[0m \u001b[0mseaborn\u001b[0m \u001b[1;32mas\u001b[0m \u001b[0msns\u001b[0m\u001b[1;33m\u001b[0m\u001b[1;33m\u001b[0m\u001b[0m\n",
      "\u001b[1;31mImportError\u001b[0m: cannot import name 'TimeSeries' from 'darts' (unknown location)"
     ]
    }
   ],
   "source": [
    "from darts import TimeSeries\n",
    "from darts.metrics import mape, rmse  \n",
    "import pandas as pd\n",
    "import matplotlib.pyplot as plt\n",
    "import seaborn as sns\n",
    "from darts.utils.statistics import plot_hist, plot_residuals_analysis, plot_acf, plot_pacf\n",
    "from darts.models import NaiveSeasonal\n",
    "\n",
    "# Enable multiple outputs per cell\n",
    "from IPython.core.interactiveshell import InteractiveShell\n",
    "InteractiveShell.ast_node_interactivity = 'all'"
   ]
  },
  {
   "cell_type": "code",
   "execution_count": null,
   "metadata": {},
   "outputs": [],
   "source": [
    "# Directory where the combined master project datafile is\n",
    "DATA_PATH = \"../../data/UNSW-PROJECT-DATA/\"\n",
    "\n",
    "#Filename of the combined master project file with the actual values\n",
    "ACTUALS_FILE = \"demand_pv_temp_forecast_timefeatures_hols.csv\"\n",
    "\n",
    "# Directory where the .CSV experimantal result files are\n",
    "EXPERIMENT_PATH = \"./NSW_experiments/\"\n",
    "\n",
    "# State in which the experiment was conducted\n",
    "STATE = \"NSW\"\n",
    "\n",
    "# Names of the PV and no-PV experimental predictions\n",
    "PV_FILE = \"Jan2021_pv_tft_predictions.csv\"\n",
    "NO_PV_FILE = \"Jan2021_no_pv_tft_predictions.csv\"\n",
    "#NO_PV_FILE = \"test.csv\""
   ]
  },
  {
   "cell_type": "code",
   "execution_count": null,
   "metadata": {},
   "outputs": [],
   "source": [
    "pv.head()\n",
    "no_pv.head()"
   ]
  },
  {
   "cell_type": "code",
   "execution_count": null,
   "metadata": {},
   "outputs": [],
   "source": [
    "# Load the actuals data (ie: the master v1.0 or v2.0 .CSV dataset)\n",
    "actual = pd.read_csv(DATA_PATH+ACTUALS_FILE)\n",
    "actual = actual[actual['STATE'] == STATE]\n",
    "actual['DATETIME'] = pd.to_datetime(actual['DATETIME'])\n",
    "\n",
    "# Load experimental forecasts for PV and non-PV models in DATETIME  TOTALDEMAND format\n",
    "pv = pd.read_csv(EXPERIMENT_PATH+PV_FILE)\n",
    "no_pv = pd.read_csv(EXPERIMENT_PATH+NO_PV_FILE)\n",
    "\n",
    "pv.DATETIME = pd.to_datetime(pv.DATETIME)\n",
    "no_pv.DATETIME = pd.to_datetime(no_pv.DATETIME, )\n",
    "\n",
    "# Convert Pandas dataframes to darts TimeSeries for analysis\n",
    "pv_series = TimeSeries.from_dataframe(pv,time_col = 'DATETIME', value_cols='TOTALDEMAND')\n",
    "no_pv_series = TimeSeries.from_dataframe(no_pv,time_col = 'DATETIME', value_cols='TOTALDEMAND')\n",
    "actual_series = TimeSeries.from_dataframe(actual, time_col='DATETIME',value_cols=['TOTALDEMAND','TEMPERATURE','FORECASTDEMAND','POWER'])\n",
    "actual_totaldemand = TimeSeries.from_dataframe(actual, time_col='DATETIME',value_cols='TOTALDEMAND')\n",
    "\n",
    "# Slice out the subset of the actuals that correspond to the experimental sets\n",
    "ref_series = actual_series.slice_intersect(pv_series)"
   ]
  },
  {
   "cell_type": "code",
   "execution_count": null,
   "metadata": {},
   "outputs": [],
   "source": [
    "print(\"PV series\",pv_series.start_time(), pv_series.end_time())\n",
    "print(\"No PV series\",no_pv_series.start_time(), no_pv_series.end_time())\n",
    "print(\"Reference series\",ref_series.start_time(), ref_series.end_time())"
   ]
  },
  {
   "cell_type": "markdown",
   "metadata": {},
   "source": [
    "## For the given time range, generate a naive prediction forecast as a baseline reference"
   ]
  },
  {
   "cell_type": "code",
   "execution_count": null,
   "metadata": {},
   "outputs": [],
   "source": [
    "def naive_forecast(train_data, forecast_index, lag=48):\n",
    "    # For a supplied darts TimeSeries (train_data), returns the day-ago value (ie: lagging by 48 periods)\n",
    "    #print(forecast_index)\n",
    "    idx = forecast_index-lag\n",
    "    #print(idx)\n",
    "    #print(train_data[idx])\n",
    "\n",
    "    naive_model = NaiveSeasonal(K=48)\n",
    "    naive_model.fit(train_data[idx:forecast_index])\n",
    "    forecast = naive_model.predict(48)\n",
    "\n",
    "    return forecast\n",
    "    "
   ]
  },
  {
   "cell_type": "code",
   "execution_count": null,
   "metadata": {},
   "outputs": [],
   "source": [
    "# Generate a naive forecast over the equivalent ranges of the supplied experimental forecasts\n",
    "start_idx = actual_totaldemand.get_index_at_point(ref_series.start_time())\n",
    "end_idx = actual_totaldemand.get_index_at_point(ref_series.end_time())\n",
    "\n",
    "naive_forecasts = naive_forecast(actual_totaldemand, start_idx)\n",
    "forecast = None\n",
    "\n",
    "#print(naive_forecasts.start_time(), naive_forecasts.end_time())\n",
    "for idx in range(start_idx+48, end_idx,48):\n",
    "    forecast = naive_forecast(actual_totaldemand, idx)\n",
    "    naive_forecasts = naive_forecasts.concatenate(forecast, ignore_time_axes=True)\n",
    "    #print(forecast.start_time(), forecast.end_time())"
   ]
  },
  {
   "cell_type": "code",
   "execution_count": null,
   "metadata": {},
   "outputs": [],
   "source": [
    "plt.figure(figsize=(30,10))\n",
    "ref_series['TOTALDEMAND'].plot(label='Actual')\n",
    "ref_series['FORECASTDEMAND'].plot(label='AEMO')\n",
    "pv_series.plot(label='PV')\n",
    "naive_forecasts.plot(label='naive')\n",
    "no_pv_series.plot(label='No PV')"
   ]
  },
  {
   "cell_type": "code",
   "execution_count": null,
   "metadata": {},
   "outputs": [],
   "source": [
    "print(\"AEMO MAPE/RMSE:\", mape(ref_series['TOTALDEMAND'], ref_series['FORECASTDEMAND']), rmse(ref_series['TOTALDEMAND'], ref_series['FORECASTDEMAND']))\n",
    "print(\"Naive MAPE/RMSE:\", mape(ref_series['TOTALDEMAND'], naive_forecasts), rmse(ref_series['TOTALDEMAND'], naive_forecasts))\n",
    "print(\"PV prediction MAPE/RMSE\", mape(ref_series['TOTALDEMAND'],pv_series), rmse(ref_series['TOTALDEMAND'],pv_series))\n",
    "print(\"Non-PV prediction MAPE/RMSE\", mape(ref_series['TOTALDEMAND'],no_pv_series), rmse(ref_series['TOTALDEMAND'],no_pv_series))\n",
    "\n"
   ]
  },
  {
   "cell_type": "markdown",
   "metadata": {},
   "source": [
    "Calculate the residuals between the predictions and the actuals\n"
   ]
  },
  {
   "cell_type": "code",
   "execution_count": null,
   "metadata": {},
   "outputs": [],
   "source": [
    "pv_diffs = ref_series['TOTALDEMAND'] - pv_series\n",
    "non_pv_diffs = ref_series['TOTALDEMAND'] - no_pv_series"
   ]
  },
  {
   "cell_type": "markdown",
   "metadata": {},
   "source": [
    "## Histogram of the distribution of errors for PV and non-PV roll-forward forecasts"
   ]
  },
  {
   "cell_type": "code",
   "execution_count": null,
   "metadata": {},
   "outputs": [],
   "source": [
    "plot_hist(pv_diffs, bins=20, title=\"PV-aware prediction residual histogram\")\n",
    "plot_hist(non_pv_diffs, bins=20, title=\"Non-PV aware prediction residual histogram\")"
   ]
  },
  {
   "cell_type": "code",
   "execution_count": null,
   "metadata": {},
   "outputs": [],
   "source": [
    "plot_pacf(pv_diffs, alpha=0.05)\n",
    "plot_pacf(non_pv_diffs, alpha=0.05)"
   ]
  },
  {
   "cell_type": "code",
   "execution_count": null,
   "metadata": {},
   "outputs": [],
   "source": [
    "plot_residuals_analysis(pv_diffs)\n",
    "plot_residuals_analysis(non_pv_diffs)"
   ]
  },
  {
   "cell_type": "markdown",
   "metadata": {},
   "source": [
    "## Correlation of residuals with other predictors: PV data"
   ]
  },
  {
   "cell_type": "code",
   "execution_count": null,
   "metadata": {},
   "outputs": [],
   "source": [
    "def resid_correlation(residuals, main_data):\n",
    "    cor_df = residuals.pd_dataframe()\n",
    "    cor_df.rename(columns={'TOTALDEMAND':'RESIDUAL'}, inplace=True)\n",
    "    return cor_df.merge(main_data, how='left', on='DATETIME')[['RESIDUAL','TOTALDEMAND','POWER','TEMPERATURE']].corr(method='pearson')"
   ]
  },
  {
   "cell_type": "code",
   "execution_count": null,
   "metadata": {},
   "outputs": [],
   "source": [
    "resid_correlation(pv_diffs, actual)"
   ]
  },
  {
   "cell_type": "markdown",
   "metadata": {},
   "source": [
    "## Correlation of residuals with other predictors: non-PV data"
   ]
  },
  {
   "cell_type": "code",
   "execution_count": null,
   "metadata": {},
   "outputs": [],
   "source": [
    "resid_correlation(non_pv_diffs, actual)"
   ]
  },
  {
   "cell_type": "markdown",
   "metadata": {},
   "source": [
    "Distribution of errors by time of day"
   ]
  },
  {
   "cell_type": "code",
   "execution_count": null,
   "metadata": {},
   "outputs": [],
   "source": [
    "\n",
    "daily_diffs.head()\n",
    "#daily_diffs['DATETIME'] = pd.to_datetime(daily_diffs.index)\n",
    "#daily_diffs.head()"
   ]
  },
  {
   "cell_type": "code",
   "execution_count": null,
   "metadata": {},
   "outputs": [],
   "source": [
    "def plot_residuals_by_hour(residuals):\n",
    "    res = residuals.pd_dataframe()\n",
    "    res.head()\n",
    "    res.rename(columns={'TOTALDEMAND':'Residuals'},inplace=True)\n",
    "    res['Time of day'] = res.index.time\n",
    "\n",
    "    sns.set(rc={\"figure.figsize\": (25,5)})\n",
    "    errorplot = sns.boxplot(data=res, x='Time of day',y='Residuals')\n",
    "    errorplot.set_xticklabels(labels=res['Time of day'].unique(), rotation=45)\n",
    "    ax1 = errorplot.axes\n",
    "    ax1.axhline(0, ls='--', color='red')    "
   ]
  },
  {
   "cell_type": "code",
   "execution_count": null,
   "metadata": {},
   "outputs": [],
   "source": [
    "\n",
    "\n",
    "plot_residuals_by_hour(pv_diffs)"
   ]
  },
  {
   "cell_type": "code",
   "execution_count": null,
   "metadata": {},
   "outputs": [],
   "source": [
    "plot_residuals_by_hour(non_pv_diffs)"
   ]
  }
 ],
 "metadata": {
  "interpreter": {
   "hash": "ac2eaa0ea0ebeafcc7822e65e46aa9d4f966f30b695406963e145ea4a91cd4fc"
  },
  "kernelspec": {
   "display_name": "Python 3 (ipykernel)",
   "language": "python",
   "name": "python3"
  },
  "language_info": {
   "codemirror_mode": {
    "name": "ipython",
    "version": 3
   },
   "file_extension": ".py",
   "mimetype": "text/x-python",
   "name": "python",
   "nbconvert_exporter": "python",
   "pygments_lexer": "ipython3",
   "version": "3.7.6"
  }
 },
 "nbformat": 4,
 "nbformat_minor": 2
}
