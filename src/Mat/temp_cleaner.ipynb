{
 "cells": [
  {
   "cell_type": "markdown",
   "metadata": {},
   "source": [
    "# NSW Temperature missing-value fill\n",
    "\n",
    "- Author: Mathew Traini\n",
    "- Date: 21/03/22\n",
    "- Purpose: Proof-of-concept notebook to fill as many missing temperature values as possible (in an expedient manner)\n",
    "Uses a combination of left-joining using the demand dataset to remove unnecessary temperature observations, \n",
    "Meteostat lookups, and short range Pandas forward- and backfilling. Results in a date/time matched dataset (to the demand data)\n",
    "with only 3 missing temperature values for the entire range 2010-2021.\n",
    "\n",
    "Only deals with NSW data for the moment."
   ]
  },
  {
   "cell_type": "code",
   "execution_count": 32,
   "metadata": {},
   "outputs": [],
   "source": [
    "import pandas as pd\n",
    "from datetime import datetime, timedelta\n",
    "from meteostat import Hourly\n",
    "\n",
    "\n",
    "DATA_PATH = \"../../data/H03-2021/\"\n",
    "\n",
    "# Set the MeteoStat ID for Bankstown\n",
    "bankstown_id = \"94765\"\n",
    "\n",
    "# Timezone for Sydney\n",
    "tz = \"Australia/Sydney\""
   ]
  },
  {
   "cell_type": "code",
   "execution_count": 51,
   "metadata": {},
   "outputs": [],
   "source": [
    "temp = pd.read_csv(DATA_PATH+\"temperature_nsw.csv\")\n",
    "demand = pd.read_csv(DATA_PATH+\"totaldemand_nsw.csv\")\n",
    "\n",
    "temp.DATETIME = pd.to_datetime(temp.DATETIME)\n",
    "demand.DATETIME = pd.to_datetime(demand.DATETIME)\n"
   ]
  },
  {
   "cell_type": "code",
   "execution_count": 59,
   "metadata": {},
   "outputs": [
    {
     "data": {
      "text/plain": [
       "LOCATION               object\n",
       "DATETIME       datetime64[ns]\n",
       "TEMPERATURE           float64\n",
       "dtype: object"
      ]
     },
     "execution_count": 59,
     "metadata": {},
     "output_type": "execute_result"
    }
   ],
   "source": [
    "temp.dtypes"
   ]
  },
  {
   "cell_type": "code",
   "execution_count": 5,
   "metadata": {},
   "outputs": [
    {
     "data": {
      "text/plain": [
       "(220326, 3)"
      ]
     },
     "execution_count": 5,
     "metadata": {},
     "output_type": "execute_result"
    }
   ],
   "source": [
    "temp.shape"
   ]
  },
  {
   "cell_type": "code",
   "execution_count": 6,
   "metadata": {},
   "outputs": [
    {
     "data": {
      "text/plain": [
       "(196513, 3)"
      ]
     },
     "execution_count": 6,
     "metadata": {},
     "output_type": "execute_result"
    }
   ],
   "source": [
    "demand.shape\n"
   ]
  },
  {
   "cell_type": "code",
   "execution_count": 66,
   "metadata": {},
   "outputs": [
    {
     "data": {
      "text/html": [
       "<div>\n",
       "<style scoped>\n",
       "    .dataframe tbody tr th:only-of-type {\n",
       "        vertical-align: middle;\n",
       "    }\n",
       "\n",
       "    .dataframe tbody tr th {\n",
       "        vertical-align: top;\n",
       "    }\n",
       "\n",
       "    .dataframe thead th {\n",
       "        text-align: right;\n",
       "    }\n",
       "</style>\n",
       "<table border=\"1\" class=\"dataframe\">\n",
       "  <thead>\n",
       "    <tr style=\"text-align: right;\">\n",
       "      <th></th>\n",
       "      <th>DATETIME</th>\n",
       "      <th>TOTALDEMAND</th>\n",
       "      <th>REGIONID</th>\n",
       "      <th>LOCATION</th>\n",
       "      <th>TEMPERATURE</th>\n",
       "    </tr>\n",
       "  </thead>\n",
       "  <tbody>\n",
       "    <tr>\n",
       "      <th>0</th>\n",
       "      <td>2010-01-01 00:00:00</td>\n",
       "      <td>8038.00</td>\n",
       "      <td>NSW1</td>\n",
       "      <td>Bankstown</td>\n",
       "      <td>23.1</td>\n",
       "    </tr>\n",
       "    <tr>\n",
       "      <th>1</th>\n",
       "      <td>2010-01-01 00:30:00</td>\n",
       "      <td>7809.31</td>\n",
       "      <td>NSW1</td>\n",
       "      <td>Bankstown</td>\n",
       "      <td>22.9</td>\n",
       "    </tr>\n",
       "    <tr>\n",
       "      <th>2</th>\n",
       "      <td>2010-01-01 01:00:00</td>\n",
       "      <td>7483.69</td>\n",
       "      <td>NSW1</td>\n",
       "      <td>Bankstown</td>\n",
       "      <td>22.6</td>\n",
       "    </tr>\n",
       "    <tr>\n",
       "      <th>3</th>\n",
       "      <td>2010-01-01 01:30:00</td>\n",
       "      <td>7117.23</td>\n",
       "      <td>NSW1</td>\n",
       "      <td>Bankstown</td>\n",
       "      <td>22.5</td>\n",
       "    </tr>\n",
       "    <tr>\n",
       "      <th>4</th>\n",
       "      <td>2010-01-01 02:00:00</td>\n",
       "      <td>6812.03</td>\n",
       "      <td>NSW1</td>\n",
       "      <td>Bankstown</td>\n",
       "      <td>22.5</td>\n",
       "    </tr>\n",
       "    <tr>\n",
       "      <th>5</th>\n",
       "      <td>2010-01-01 02:30:00</td>\n",
       "      <td>6544.33</td>\n",
       "      <td>NSW1</td>\n",
       "      <td>Bankstown</td>\n",
       "      <td>22.4</td>\n",
       "    </tr>\n",
       "    <tr>\n",
       "      <th>6</th>\n",
       "      <td>2010-01-01 03:00:00</td>\n",
       "      <td>6377.32</td>\n",
       "      <td>NSW1</td>\n",
       "      <td>Bankstown</td>\n",
       "      <td>22.3</td>\n",
       "    </tr>\n",
       "    <tr>\n",
       "      <th>7</th>\n",
       "      <td>2010-01-01 03:30:00</td>\n",
       "      <td>6282.85</td>\n",
       "      <td>NSW1</td>\n",
       "      <td>Bankstown</td>\n",
       "      <td>22.3</td>\n",
       "    </tr>\n",
       "    <tr>\n",
       "      <th>8</th>\n",
       "      <td>2010-01-01 04:00:00</td>\n",
       "      <td>6211.49</td>\n",
       "      <td>NSW1</td>\n",
       "      <td>Bankstown</td>\n",
       "      <td>22.1</td>\n",
       "    </tr>\n",
       "    <tr>\n",
       "      <th>9</th>\n",
       "      <td>2010-01-01 04:30:00</td>\n",
       "      <td>6248.31</td>\n",
       "      <td>NSW1</td>\n",
       "      <td>Bankstown</td>\n",
       "      <td>22.2</td>\n",
       "    </tr>\n",
       "  </tbody>\n",
       "</table>\n",
       "</div>"
      ],
      "text/plain": [
       "             DATETIME  TOTALDEMAND REGIONID   LOCATION  TEMPERATURE\n",
       "0 2010-01-01 00:00:00      8038.00     NSW1  Bankstown         23.1\n",
       "1 2010-01-01 00:30:00      7809.31     NSW1  Bankstown         22.9\n",
       "2 2010-01-01 01:00:00      7483.69     NSW1  Bankstown         22.6\n",
       "3 2010-01-01 01:30:00      7117.23     NSW1  Bankstown         22.5\n",
       "4 2010-01-01 02:00:00      6812.03     NSW1  Bankstown         22.5\n",
       "5 2010-01-01 02:30:00      6544.33     NSW1  Bankstown         22.4\n",
       "6 2010-01-01 03:00:00      6377.32     NSW1  Bankstown         22.3\n",
       "7 2010-01-01 03:30:00      6282.85     NSW1  Bankstown         22.3\n",
       "8 2010-01-01 04:00:00      6211.49     NSW1  Bankstown         22.1\n",
       "9 2010-01-01 04:30:00      6248.31     NSW1  Bankstown         22.2"
      ]
     },
     "execution_count": 66,
     "metadata": {},
     "output_type": "execute_result"
    }
   ],
   "source": [
    "# Using datetime as the 'key', left-join on demand.\n",
    "\n",
    "result = pd.merge(demand, temp, left_on=['DATETIME'], right_on=['DATETIME'], how='left')\n",
    "result.head(10)"
   ]
  },
  {
   "cell_type": "code",
   "execution_count": 91,
   "metadata": {},
   "outputs": [
    {
     "data": {
      "text/html": [
       "<div>\n",
       "<style scoped>\n",
       "    .dataframe tbody tr th:only-of-type {\n",
       "        vertical-align: middle;\n",
       "    }\n",
       "\n",
       "    .dataframe tbody tr th {\n",
       "        vertical-align: top;\n",
       "    }\n",
       "\n",
       "    .dataframe thead th {\n",
       "        text-align: right;\n",
       "    }\n",
       "</style>\n",
       "<table border=\"1\" class=\"dataframe\">\n",
       "  <thead>\n",
       "    <tr style=\"text-align: right;\">\n",
       "      <th></th>\n",
       "      <th>DATETIME</th>\n",
       "      <th>TOTALDEMAND</th>\n",
       "      <th>REGIONID</th>\n",
       "      <th>LOCATION</th>\n",
       "      <th>TEMPERATURE</th>\n",
       "    </tr>\n",
       "  </thead>\n",
       "  <tbody>\n",
       "    <tr>\n",
       "      <th>440</th>\n",
       "      <td>2010-10-01 04:00:00</td>\n",
       "      <td>6717.56</td>\n",
       "      <td>NSW1</td>\n",
       "      <td>NaN</td>\n",
       "      <td>NaN</td>\n",
       "    </tr>\n",
       "    <tr>\n",
       "      <th>514</th>\n",
       "      <td>2010-11-01 17:00:00</td>\n",
       "      <td>11380.63</td>\n",
       "      <td>NSW1</td>\n",
       "      <td>NaN</td>\n",
       "      <td>NaN</td>\n",
       "    </tr>\n",
       "    <tr>\n",
       "      <th>651</th>\n",
       "      <td>2010-01-14 13:30:00</td>\n",
       "      <td>10061.15</td>\n",
       "      <td>NSW1</td>\n",
       "      <td>NaN</td>\n",
       "      <td>NaN</td>\n",
       "    </tr>\n",
       "    <tr>\n",
       "      <th>693</th>\n",
       "      <td>2010-01-15 10:30:00</td>\n",
       "      <td>10214.32</td>\n",
       "      <td>NSW1</td>\n",
       "      <td>NaN</td>\n",
       "      <td>NaN</td>\n",
       "    </tr>\n",
       "    <tr>\n",
       "      <th>741</th>\n",
       "      <td>2010-01-16 10:30:00</td>\n",
       "      <td>9534.90</td>\n",
       "      <td>NSW1</td>\n",
       "      <td>NaN</td>\n",
       "      <td>NaN</td>\n",
       "    </tr>\n",
       "    <tr>\n",
       "      <th>...</th>\n",
       "      <td>...</td>\n",
       "      <td>...</td>\n",
       "      <td>...</td>\n",
       "      <td>...</td>\n",
       "      <td>...</td>\n",
       "    </tr>\n",
       "    <tr>\n",
       "      <th>147020</th>\n",
       "      <td>2018-05-21 16:30:00</td>\n",
       "      <td>8387.82</td>\n",
       "      <td>NSW1</td>\n",
       "      <td>NaN</td>\n",
       "      <td>NaN</td>\n",
       "    </tr>\n",
       "    <tr>\n",
       "      <th>147021</th>\n",
       "      <td>2018-05-21 17:00:00</td>\n",
       "      <td>8823.71</td>\n",
       "      <td>NSW1</td>\n",
       "      <td>NaN</td>\n",
       "      <td>NaN</td>\n",
       "    </tr>\n",
       "    <tr>\n",
       "      <th>169906</th>\n",
       "      <td>2019-10-09 11:00:00</td>\n",
       "      <td>7931.07</td>\n",
       "      <td>NSW1</td>\n",
       "      <td>NaN</td>\n",
       "      <td>NaN</td>\n",
       "    </tr>\n",
       "    <tr>\n",
       "      <th>188057</th>\n",
       "      <td>2020-09-22 14:00:00</td>\n",
       "      <td>6648.85</td>\n",
       "      <td>NSW1</td>\n",
       "      <td>NaN</td>\n",
       "      <td>NaN</td>\n",
       "    </tr>\n",
       "    <tr>\n",
       "      <th>188058</th>\n",
       "      <td>2020-09-22 14:30:00</td>\n",
       "      <td>6757.53</td>\n",
       "      <td>NSW1</td>\n",
       "      <td>NaN</td>\n",
       "      <td>NaN</td>\n",
       "    </tr>\n",
       "  </tbody>\n",
       "</table>\n",
       "<p>579 rows × 5 columns</p>\n",
       "</div>"
      ],
      "text/plain": [
       "                  DATETIME  TOTALDEMAND REGIONID LOCATION  TEMPERATURE\n",
       "440    2010-10-01 04:00:00      6717.56     NSW1      NaN          NaN\n",
       "514    2010-11-01 17:00:00     11380.63     NSW1      NaN          NaN\n",
       "651    2010-01-14 13:30:00     10061.15     NSW1      NaN          NaN\n",
       "693    2010-01-15 10:30:00     10214.32     NSW1      NaN          NaN\n",
       "741    2010-01-16 10:30:00      9534.90     NSW1      NaN          NaN\n",
       "...                    ...          ...      ...      ...          ...\n",
       "147020 2018-05-21 16:30:00      8387.82     NSW1      NaN          NaN\n",
       "147021 2018-05-21 17:00:00      8823.71     NSW1      NaN          NaN\n",
       "169906 2019-10-09 11:00:00      7931.07     NSW1      NaN          NaN\n",
       "188057 2020-09-22 14:00:00      6648.85     NSW1      NaN          NaN\n",
       "188058 2020-09-22 14:30:00      6757.53     NSW1      NaN          NaN\n",
       "\n",
       "[579 rows x 5 columns]"
      ]
     },
     "execution_count": 91,
     "metadata": {},
     "output_type": "execute_result"
    }
   ],
   "source": [
    "# Find any cases where there's missing temperature values\n",
    "result[result['TEMPERATURE'].isnull()]"
   ]
  },
  {
   "cell_type": "code",
   "execution_count": 92,
   "metadata": {},
   "outputs": [
    {
     "data": {
      "text/html": [
       "<div>\n",
       "<style scoped>\n",
       "    .dataframe tbody tr th:only-of-type {\n",
       "        vertical-align: middle;\n",
       "    }\n",
       "\n",
       "    .dataframe tbody tr th {\n",
       "        vertical-align: top;\n",
       "    }\n",
       "\n",
       "    .dataframe thead th {\n",
       "        text-align: right;\n",
       "    }\n",
       "</style>\n",
       "<table border=\"1\" class=\"dataframe\">\n",
       "  <thead>\n",
       "    <tr style=\"text-align: right;\">\n",
       "      <th></th>\n",
       "      <th>DATETIME</th>\n",
       "      <th>TOTALDEMAND</th>\n",
       "      <th>REGIONID</th>\n",
       "      <th>LOCATION</th>\n",
       "      <th>TEMPERATURE</th>\n",
       "    </tr>\n",
       "  </thead>\n",
       "  <tbody>\n",
       "    <tr>\n",
       "      <th>17521</th>\n",
       "      <td>2011-01-01 00:00:00</td>\n",
       "      <td>8063.36</td>\n",
       "      <td>NSW1</td>\n",
       "      <td>Bankstown</td>\n",
       "      <td>21.0</td>\n",
       "    </tr>\n",
       "    <tr>\n",
       "      <th>31079</th>\n",
       "      <td>2011-10-10 10:30:00</td>\n",
       "      <td>9039.47</td>\n",
       "      <td>NSW1</td>\n",
       "      <td>Bankstown</td>\n",
       "      <td>18.9</td>\n",
       "    </tr>\n",
       "    <tr>\n",
       "      <th>31096</th>\n",
       "      <td>2011-10-10 18:30:00</td>\n",
       "      <td>9220.89</td>\n",
       "      <td>NSW1</td>\n",
       "      <td>Bankstown</td>\n",
       "      <td>16.1</td>\n",
       "    </tr>\n",
       "    <tr>\n",
       "      <th>31099</th>\n",
       "      <td>2011-10-10 19:30:00</td>\n",
       "      <td>9021.03</td>\n",
       "      <td>NSW1</td>\n",
       "      <td>Bankstown</td>\n",
       "      <td>15.5</td>\n",
       "    </tr>\n",
       "    <tr>\n",
       "      <th>35045</th>\n",
       "      <td>2012-01-01 00:00:00</td>\n",
       "      <td>7079.08</td>\n",
       "      <td>NSW1</td>\n",
       "      <td>Bankstown</td>\n",
       "      <td>15.4</td>\n",
       "    </tr>\n",
       "    <tr>\n",
       "      <th>52614</th>\n",
       "      <td>2013-01-01 00:00:00</td>\n",
       "      <td>7359.19</td>\n",
       "      <td>NSW1</td>\n",
       "      <td>Bankstown</td>\n",
       "      <td>21.0</td>\n",
       "    </tr>\n",
       "    <tr>\n",
       "      <th>70135</th>\n",
       "      <td>2014-01-01 00:00:00</td>\n",
       "      <td>7009.91</td>\n",
       "      <td>NSW1</td>\n",
       "      <td>Bankstown</td>\n",
       "      <td>20.4</td>\n",
       "    </tr>\n",
       "    <tr>\n",
       "      <th>87656</th>\n",
       "      <td>2015-01-01 00:00:00</td>\n",
       "      <td>7057.51</td>\n",
       "      <td>NSW1</td>\n",
       "      <td>Bankstown</td>\n",
       "      <td>20.9</td>\n",
       "    </tr>\n",
       "    <tr>\n",
       "      <th>105177</th>\n",
       "      <td>2016-01-01 00:00:00</td>\n",
       "      <td>7139.95</td>\n",
       "      <td>NSW1</td>\n",
       "      <td>Bankstown</td>\n",
       "      <td>16.9</td>\n",
       "    </tr>\n",
       "    <tr>\n",
       "      <th>122746</th>\n",
       "      <td>2017-01-01 00:00:00</td>\n",
       "      <td>7431.17</td>\n",
       "      <td>NSW1</td>\n",
       "      <td>Bankstown</td>\n",
       "      <td>22.6</td>\n",
       "    </tr>\n",
       "    <tr>\n",
       "      <th>140267</th>\n",
       "      <td>2018-01-01 00:00:00</td>\n",
       "      <td>7034.74</td>\n",
       "      <td>NSW1</td>\n",
       "      <td>Bankstown</td>\n",
       "      <td>22.4</td>\n",
       "    </tr>\n",
       "    <tr>\n",
       "      <th>157788</th>\n",
       "      <td>2019-01-01 00:00:00</td>\n",
       "      <td>7612.74</td>\n",
       "      <td>NSW1</td>\n",
       "      <td>Bankstown</td>\n",
       "      <td>22.3</td>\n",
       "    </tr>\n",
       "    <tr>\n",
       "      <th>175309</th>\n",
       "      <td>2020-01-01 00:00:00</td>\n",
       "      <td>7318.64</td>\n",
       "      <td>NSW1</td>\n",
       "      <td>Bankstown</td>\n",
       "      <td>19.4</td>\n",
       "    </tr>\n",
       "  </tbody>\n",
       "</table>\n",
       "</div>"
      ],
      "text/plain": [
       "                  DATETIME  TOTALDEMAND REGIONID   LOCATION  TEMPERATURE\n",
       "17521  2011-01-01 00:00:00      8063.36     NSW1  Bankstown         21.0\n",
       "31079  2011-10-10 10:30:00      9039.47     NSW1  Bankstown         18.9\n",
       "31096  2011-10-10 18:30:00      9220.89     NSW1  Bankstown         16.1\n",
       "31099  2011-10-10 19:30:00      9021.03     NSW1  Bankstown         15.5\n",
       "35045  2012-01-01 00:00:00      7079.08     NSW1  Bankstown         15.4\n",
       "52614  2013-01-01 00:00:00      7359.19     NSW1  Bankstown         21.0\n",
       "70135  2014-01-01 00:00:00      7009.91     NSW1  Bankstown         20.4\n",
       "87656  2015-01-01 00:00:00      7057.51     NSW1  Bankstown         20.9\n",
       "105177 2016-01-01 00:00:00      7139.95     NSW1  Bankstown         16.9\n",
       "122746 2017-01-01 00:00:00      7431.17     NSW1  Bankstown         22.6\n",
       "140267 2018-01-01 00:00:00      7034.74     NSW1  Bankstown         22.4\n",
       "157788 2019-01-01 00:00:00      7612.74     NSW1  Bankstown         22.3\n",
       "175309 2020-01-01 00:00:00      7318.64     NSW1  Bankstown         19.4"
      ]
     },
     "execution_count": 92,
     "metadata": {},
     "output_type": "execute_result"
    }
   ],
   "source": [
    "# There are more rows in the merged dataframe than we started with. Check for duplicated values which have arisen from the merge\n",
    "result[result.duplicated()]"
   ]
  },
  {
   "cell_type": "code",
   "execution_count": 68,
   "metadata": {},
   "outputs": [
    {
     "data": {
      "text/plain": [
       "(196513, 5)"
      ]
     },
     "execution_count": 68,
     "metadata": {},
     "output_type": "execute_result"
    }
   ],
   "source": [
    "# Drop the duplicated rows\n",
    "clean = result.drop_duplicates()\n",
    "clean.shape"
   ]
  },
  {
   "cell_type": "code",
   "execution_count": 60,
   "metadata": {},
   "outputs": [
    {
     "data": {
      "text/plain": [
       "DATETIME       datetime64[ns]\n",
       "TOTALDEMAND           float64\n",
       "REGIONID               object\n",
       "LOCATION               object\n",
       "TEMPERATURE           float64\n",
       "dtype: object"
      ]
     },
     "execution_count": 60,
     "metadata": {},
     "output_type": "execute_result"
    }
   ],
   "source": [
    "clean.dtypes"
   ]
  },
  {
   "cell_type": "code",
   "execution_count": 69,
   "metadata": {},
   "outputs": [
    {
     "data": {
      "text/html": [
       "<div>\n",
       "<style scoped>\n",
       "    .dataframe tbody tr th:only-of-type {\n",
       "        vertical-align: middle;\n",
       "    }\n",
       "\n",
       "    .dataframe tbody tr th {\n",
       "        vertical-align: top;\n",
       "    }\n",
       "\n",
       "    .dataframe thead th {\n",
       "        text-align: right;\n",
       "    }\n",
       "</style>\n",
       "<table border=\"1\" class=\"dataframe\">\n",
       "  <thead>\n",
       "    <tr style=\"text-align: right;\">\n",
       "      <th></th>\n",
       "      <th>DATETIME</th>\n",
       "      <th>TOTALDEMAND</th>\n",
       "      <th>REGIONID</th>\n",
       "      <th>LOCATION</th>\n",
       "      <th>TEMPERATURE</th>\n",
       "    </tr>\n",
       "  </thead>\n",
       "  <tbody>\n",
       "    <tr>\n",
       "      <th>440</th>\n",
       "      <td>2010-10-01 04:00:00</td>\n",
       "      <td>6717.56</td>\n",
       "      <td>NSW1</td>\n",
       "      <td>NaN</td>\n",
       "      <td>NaN</td>\n",
       "    </tr>\n",
       "    <tr>\n",
       "      <th>514</th>\n",
       "      <td>2010-11-01 17:00:00</td>\n",
       "      <td>11380.63</td>\n",
       "      <td>NSW1</td>\n",
       "      <td>NaN</td>\n",
       "      <td>NaN</td>\n",
       "    </tr>\n",
       "    <tr>\n",
       "      <th>651</th>\n",
       "      <td>2010-01-14 13:30:00</td>\n",
       "      <td>10061.15</td>\n",
       "      <td>NSW1</td>\n",
       "      <td>NaN</td>\n",
       "      <td>NaN</td>\n",
       "    </tr>\n",
       "    <tr>\n",
       "      <th>693</th>\n",
       "      <td>2010-01-15 10:30:00</td>\n",
       "      <td>10214.32</td>\n",
       "      <td>NSW1</td>\n",
       "      <td>NaN</td>\n",
       "      <td>NaN</td>\n",
       "    </tr>\n",
       "    <tr>\n",
       "      <th>741</th>\n",
       "      <td>2010-01-16 10:30:00</td>\n",
       "      <td>9534.90</td>\n",
       "      <td>NSW1</td>\n",
       "      <td>NaN</td>\n",
       "      <td>NaN</td>\n",
       "    </tr>\n",
       "    <tr>\n",
       "      <th>...</th>\n",
       "      <td>...</td>\n",
       "      <td>...</td>\n",
       "      <td>...</td>\n",
       "      <td>...</td>\n",
       "      <td>...</td>\n",
       "    </tr>\n",
       "    <tr>\n",
       "      <th>147020</th>\n",
       "      <td>2018-05-21 16:30:00</td>\n",
       "      <td>8387.82</td>\n",
       "      <td>NSW1</td>\n",
       "      <td>NaN</td>\n",
       "      <td>NaN</td>\n",
       "    </tr>\n",
       "    <tr>\n",
       "      <th>147021</th>\n",
       "      <td>2018-05-21 17:00:00</td>\n",
       "      <td>8823.71</td>\n",
       "      <td>NSW1</td>\n",
       "      <td>NaN</td>\n",
       "      <td>NaN</td>\n",
       "    </tr>\n",
       "    <tr>\n",
       "      <th>169906</th>\n",
       "      <td>2019-10-09 11:00:00</td>\n",
       "      <td>7931.07</td>\n",
       "      <td>NSW1</td>\n",
       "      <td>NaN</td>\n",
       "      <td>NaN</td>\n",
       "    </tr>\n",
       "    <tr>\n",
       "      <th>188057</th>\n",
       "      <td>2020-09-22 14:00:00</td>\n",
       "      <td>6648.85</td>\n",
       "      <td>NSW1</td>\n",
       "      <td>NaN</td>\n",
       "      <td>NaN</td>\n",
       "    </tr>\n",
       "    <tr>\n",
       "      <th>188058</th>\n",
       "      <td>2020-09-22 14:30:00</td>\n",
       "      <td>6757.53</td>\n",
       "      <td>NSW1</td>\n",
       "      <td>NaN</td>\n",
       "      <td>NaN</td>\n",
       "    </tr>\n",
       "  </tbody>\n",
       "</table>\n",
       "<p>579 rows × 5 columns</p>\n",
       "</div>"
      ],
      "text/plain": [
       "                  DATETIME  TOTALDEMAND REGIONID LOCATION  TEMPERATURE\n",
       "440    2010-10-01 04:00:00      6717.56     NSW1      NaN          NaN\n",
       "514    2010-11-01 17:00:00     11380.63     NSW1      NaN          NaN\n",
       "651    2010-01-14 13:30:00     10061.15     NSW1      NaN          NaN\n",
       "693    2010-01-15 10:30:00     10214.32     NSW1      NaN          NaN\n",
       "741    2010-01-16 10:30:00      9534.90     NSW1      NaN          NaN\n",
       "...                    ...          ...      ...      ...          ...\n",
       "147020 2018-05-21 16:30:00      8387.82     NSW1      NaN          NaN\n",
       "147021 2018-05-21 17:00:00      8823.71     NSW1      NaN          NaN\n",
       "169906 2019-10-09 11:00:00      7931.07     NSW1      NaN          NaN\n",
       "188057 2020-09-22 14:00:00      6648.85     NSW1      NaN          NaN\n",
       "188058 2020-09-22 14:30:00      6757.53     NSW1      NaN          NaN\n",
       "\n",
       "[579 rows x 5 columns]"
      ]
     },
     "execution_count": 69,
     "metadata": {},
     "output_type": "execute_result"
    }
   ],
   "source": [
    "# Identify all the missing temperature values from the final clean version of the merged dataframe\n",
    "clean[clean['TEMPERATURE'].isnull()]"
   ]
  },
  {
   "cell_type": "code",
   "execution_count": 71,
   "metadata": {},
   "outputs": [
    {
     "data": {
      "text/plain": [
       "579"
      ]
     },
     "execution_count": 71,
     "metadata": {},
     "output_type": "execute_result"
    }
   ],
   "source": [
    "# Get the row indices of all rows with missing temp values\n",
    "missing_idx = clean[clean['TEMPERATURE'].isnull()].index\n",
    "len(missing_idx)"
   ]
  },
  {
   "cell_type": "code",
   "execution_count": 72,
   "metadata": {},
   "outputs": [
    {
     "name": "stdout",
     "output_type": "stream",
     "text": [
      "Found/missed/total:  232 70 302\n"
     ]
    }
   ],
   "source": [
    "# First iterate through the missing values (by row index) and attempt to find replacements in the MeteoStat database\n",
    "# Not all timepoints will be present, but try to fill as many gaps as possible.\n",
    "# MeteoStat only has readings on the hour...there are no :30 readings. Skip anything that is on the half-hour.\n",
    "\n",
    "found = 0\n",
    "missed = 0\n",
    "\n",
    "for idx in missing_idx:\n",
    "    # Set the start and end dates for the Meteostat query\n",
    "    start_date = clean.iloc[idx]['DATETIME'].to_pydatetime()\n",
    "\n",
    "    # Only send the query if the missing value is on the hour\n",
    "    if (start_date.minute == 0):\n",
    "        end_date = start_date + timedelta(hours = 1)\n",
    "        \n",
    "        #print(\"On the hour, getting \",start_date, end_date)\n",
    "        meteo_data = Hourly(loc=bankstown_id, start=start_date, end=end_date, timezone=tz)\n",
    "        meteo_data = meteo_data.fetch()\n",
    "        if (meteo_data.empty is False):\n",
    "            clean.at[idx,'TEMPERATURE'] = meteo_data.iloc[0]['temp']\n",
    "            found = found+1\n",
    "        else:\n",
    "            missed = missed + 1\n",
    "            \n",
    "print(\"Found/missed/total: \", found, missed, found+missed )\n",
    "        \n"
   ]
  },
  {
   "cell_type": "code",
   "execution_count": 81,
   "metadata": {},
   "outputs": [],
   "source": [
    "# We now filled in as many missing values as MeteoStat can provide.\n",
    "# Fill in as many remaining empty values using the built-in Pandas fillna method with a limit of 3 (ie: backfilling a maximum of 3 missed row)\n",
    "backfilled = clean.fillna(method='bfill', limit=3)\n",
    "\n",
    "# Now forward fill any missing values (up to a limit of 3)\n",
    "backfilled = backfilled.fillna(method='ffill', limit=3)\n",
    "\n",
    "# Finally set all LOCATION to 'Bankstown' (this is invariant for the entire NSW dataset)\n",
    "backfilled['LOCATION'] = 'Bankstown'"
   ]
  },
  {
   "cell_type": "code",
   "execution_count": 82,
   "metadata": {},
   "outputs": [
    {
     "data": {
      "text/html": [
       "<div>\n",
       "<style scoped>\n",
       "    .dataframe tbody tr th:only-of-type {\n",
       "        vertical-align: middle;\n",
       "    }\n",
       "\n",
       "    .dataframe tbody tr th {\n",
       "        vertical-align: top;\n",
       "    }\n",
       "\n",
       "    .dataframe thead th {\n",
       "        text-align: right;\n",
       "    }\n",
       "</style>\n",
       "<table border=\"1\" class=\"dataframe\">\n",
       "  <thead>\n",
       "    <tr style=\"text-align: right;\">\n",
       "      <th></th>\n",
       "      <th>DATETIME</th>\n",
       "      <th>TOTALDEMAND</th>\n",
       "      <th>REGIONID</th>\n",
       "      <th>LOCATION</th>\n",
       "      <th>TEMPERATURE</th>\n",
       "    </tr>\n",
       "  </thead>\n",
       "  <tbody>\n",
       "    <tr>\n",
       "      <th>3862</th>\n",
       "      <td>2010-03-22 11:00:00</td>\n",
       "      <td>10233.91</td>\n",
       "      <td>NSW1</td>\n",
       "      <td>Bankstown</td>\n",
       "      <td>NaN</td>\n",
       "    </tr>\n",
       "    <tr>\n",
       "      <th>3863</th>\n",
       "      <td>2010-03-22 11:30:00</td>\n",
       "      <td>10219.71</td>\n",
       "      <td>NSW1</td>\n",
       "      <td>Bankstown</td>\n",
       "      <td>NaN</td>\n",
       "    </tr>\n",
       "    <tr>\n",
       "      <th>3864</th>\n",
       "      <td>2010-03-22 12:00:00</td>\n",
       "      <td>10273.89</td>\n",
       "      <td>NSW1</td>\n",
       "      <td>Bankstown</td>\n",
       "      <td>NaN</td>\n",
       "    </tr>\n",
       "  </tbody>\n",
       "</table>\n",
       "</div>"
      ],
      "text/plain": [
       "                DATETIME  TOTALDEMAND REGIONID   LOCATION  TEMPERATURE\n",
       "3862 2010-03-22 11:00:00     10233.91     NSW1  Bankstown          NaN\n",
       "3863 2010-03-22 11:30:00     10219.71     NSW1  Bankstown          NaN\n",
       "3864 2010-03-22 12:00:00     10273.89     NSW1  Bankstown          NaN"
      ]
     },
     "execution_count": 82,
     "metadata": {},
     "output_type": "execute_result"
    }
   ],
   "source": [
    "backfilled[backfilled['TEMPERATURE'].isnull()]"
   ]
  },
  {
   "cell_type": "code",
   "execution_count": 85,
   "metadata": {},
   "outputs": [],
   "source": [
    "# Write out the cleaned up temperature data in the same format as was originally supplied. This can then be used in pre-existing processing notebooks  \n",
    "final = backfilled[['LOCATION','DATETIME','TEMPERATURE']]\n",
    "final.to_csv('temperature_nsw_cleaned.csv', index=False)"
   ]
  },
  {
   "cell_type": "code",
   "execution_count": 86,
   "metadata": {},
   "outputs": [
    {
     "data": {
      "text/plain": [
       "(196513, 3)"
      ]
     },
     "execution_count": 86,
     "metadata": {},
     "output_type": "execute_result"
    }
   ],
   "source": [
    "final.shape"
   ]
  },
  {
   "cell_type": "code",
   "execution_count": 89,
   "metadata": {},
   "outputs": [
    {
     "data": {
      "text/plain": [
       "LOCATION       0\n",
       "DATETIME       0\n",
       "TEMPERATURE    3\n",
       "dtype: int64"
      ]
     },
     "execution_count": 89,
     "metadata": {},
     "output_type": "execute_result"
    }
   ],
   "source": [
    "final.isna().sum()"
   ]
  }
 ],
 "metadata": {
  "interpreter": {
   "hash": "ac2eaa0ea0ebeafcc7822e65e46aa9d4f966f30b695406963e145ea4a91cd4fc"
  },
  "kernelspec": {
   "display_name": "",
   "language": "python",
   "name": "python3"
  },
  "language_info": {
   "codemirror_mode": {
    "name": "ipython",
    "version": 3
   },
   "file_extension": ".py",
   "mimetype": "text/x-python",
   "name": "python",
   "nbconvert_exporter": "python",
   "pygments_lexer": "ipython3",
   "version": "3.9.10"
  },
  "orig_nbformat": 4
 },
 "nbformat": 4,
 "nbformat_minor": 2
}
