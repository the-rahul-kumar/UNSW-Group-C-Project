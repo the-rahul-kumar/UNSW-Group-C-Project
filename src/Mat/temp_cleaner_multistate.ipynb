{
 "cells": [
  {
   "cell_type": "markdown",
   "metadata": {},
   "source": [
    "# NSW Temperature missing-value fill\n",
    "\n",
    "- Author: Mathew Traini\n",
    "- Date: 21/03/22\n",
    "- Purpose: Proof-of-concept notebook to fill as many missing temperature values as possible (in an expedient manner)\n",
    "Uses a combination of left-joining using the demand dataset to remove unnecessary temperature observations, \n",
    "Meteostat lookups, and short range Pandas forward- and backfilling. Results in a date/time matched dataset (to the demand data)\n",
    "with only 3 missing temperature values for the entire range 2010-2021.\n",
    "\n",
    "Only deals with NSW data for the moment."
   ]
  },
  {
   "cell_type": "code",
   "execution_count": 164,
   "metadata": {},
   "outputs": [],
   "source": [
    "import pandas as pd\n",
    "from datetime import datetime, timedelta\n",
    "from meteostat import Hourly\n",
    "\n",
    "\n",
    "DATA_PATH = \"../../data/H06-2021/d/\"\n",
    "\n",
    "state = \"VIC\"\n",
    "#states = [\"QLD\",\"SA\",\"VIC\"]\n",
    "meteostat_ids = {\"QLD\":\"94575\", \"VIC\":\"94575\", \"SA\":\"94672\"}\n",
    "timezones = {\"QLD\":\"Australia/Brisbane\", \"SA\":\"Australia/Adelaide\", \"VIC\":\"Australia/Melbourne\"}\n",
    "locations = {\"QLD\":\"Brisbane Archerfield Airport\", \"SA\":\"Adelaide (Kent Town)\", \"VIC\":\"Melbourne (Olympic Park)\"}\n",
    "\n",
    "# Set the MeteoStat ID for Bankstown\n",
    "#bankstown_id = \"94765\"\n",
    "\n",
    "# Timezone for Sydney\n",
    "tz = \"Australia/Sydney\""
   ]
  },
  {
   "cell_type": "code",
   "execution_count": 165,
   "metadata": {},
   "outputs": [],
   "source": [
    "#for state in states:\n",
    "temp_filename = \"temprature_\"+state.lower()+\".csv\"\n",
    "demand_filename = \"totaldemand_\"+state.lower()+\".csv\"\n",
    "\n",
    "demand_df = pd.read_csv(DATA_PATH+demand_filename)\n",
    "temp_df = pd.read_csv(DATA_PATH+temp_filename)\n",
    "\n",
    "temp_df.DATETIME = pd.to_datetime(temp_df.DATETIME)\n",
    "demand_df.DATETIME = pd.to_datetime(demand_df.DATETIME)\n",
    "\n",
    "result = pd.merge(demand_df, temp_df, left_on=['DATETIME'], right_on=['DATETIME'], how='left')    \n",
    "\n",
    "if (state == \"VIC\"):\n",
    "    # VIC is missing all temp values before 2013/06/01, so drop everything before then\n",
    "    result = result[result['DATETIME'] >= \"2013-06-01\"]\n",
    "    "
   ]
  },
  {
   "cell_type": "code",
   "execution_count": 166,
   "metadata": {},
   "outputs": [
    {
     "data": {
      "text/plain": [
       "(141681, 3)"
      ]
     },
     "execution_count": 166,
     "metadata": {},
     "output_type": "execute_result"
    }
   ],
   "source": [
    "temp_df.shape"
   ]
  },
  {
   "cell_type": "code",
   "execution_count": 167,
   "metadata": {},
   "outputs": [
    {
     "data": {
      "text/plain": [
       "(196513, 3)"
      ]
     },
     "execution_count": 167,
     "metadata": {},
     "output_type": "execute_result"
    }
   ],
   "source": [
    "demand_df.shape"
   ]
  },
  {
   "cell_type": "code",
   "execution_count": 168,
   "metadata": {},
   "outputs": [
    {
     "data": {
      "text/plain": [
       "(136657, 5)"
      ]
     },
     "execution_count": 168,
     "metadata": {},
     "output_type": "execute_result"
    }
   ],
   "source": [
    "result.shape"
   ]
  },
  {
   "cell_type": "code",
   "execution_count": 169,
   "metadata": {},
   "outputs": [
    {
     "data": {
      "text/html": [
       "<div>\n",
       "<style scoped>\n",
       "    .dataframe tbody tr th:only-of-type {\n",
       "        vertical-align: middle;\n",
       "    }\n",
       "\n",
       "    .dataframe tbody tr th {\n",
       "        vertical-align: top;\n",
       "    }\n",
       "\n",
       "    .dataframe thead th {\n",
       "        text-align: right;\n",
       "    }\n",
       "</style>\n",
       "<table border=\"1\" class=\"dataframe\">\n",
       "  <thead>\n",
       "    <tr style=\"text-align: right;\">\n",
       "      <th></th>\n",
       "      <th>DATETIME</th>\n",
       "      <th>TOTALDEMAND</th>\n",
       "      <th>REGIONID</th>\n",
       "      <th>LOCATION</th>\n",
       "      <th>TEMPERATURE</th>\n",
       "    </tr>\n",
       "  </thead>\n",
       "  <tbody>\n",
       "    <tr>\n",
       "      <th>59856</th>\n",
       "      <td>2013-06-01 00:00:00</td>\n",
       "      <td>5781.73</td>\n",
       "      <td>VIC1</td>\n",
       "      <td>NaN</td>\n",
       "      <td>NaN</td>\n",
       "    </tr>\n",
       "    <tr>\n",
       "      <th>59857</th>\n",
       "      <td>2013-06-01 00:30:00</td>\n",
       "      <td>5430.38</td>\n",
       "      <td>VIC1</td>\n",
       "      <td>NaN</td>\n",
       "      <td>NaN</td>\n",
       "    </tr>\n",
       "    <tr>\n",
       "      <th>59858</th>\n",
       "      <td>2013-06-01 01:00:00</td>\n",
       "      <td>5149.84</td>\n",
       "      <td>VIC1</td>\n",
       "      <td>NaN</td>\n",
       "      <td>NaN</td>\n",
       "    </tr>\n",
       "    <tr>\n",
       "      <th>59859</th>\n",
       "      <td>2013-06-01 01:30:00</td>\n",
       "      <td>5105.74</td>\n",
       "      <td>VIC1</td>\n",
       "      <td>NaN</td>\n",
       "      <td>NaN</td>\n",
       "    </tr>\n",
       "    <tr>\n",
       "      <th>59860</th>\n",
       "      <td>2013-06-01 02:00:00</td>\n",
       "      <td>4939.19</td>\n",
       "      <td>VIC1</td>\n",
       "      <td>NaN</td>\n",
       "      <td>NaN</td>\n",
       "    </tr>\n",
       "    <tr>\n",
       "      <th>...</th>\n",
       "      <td>...</td>\n",
       "      <td>...</td>\n",
       "      <td>...</td>\n",
       "      <td>...</td>\n",
       "      <td>...</td>\n",
       "    </tr>\n",
       "    <tr>\n",
       "      <th>196267</th>\n",
       "      <td>2021-03-12 21:30:00</td>\n",
       "      <td>5106.15</td>\n",
       "      <td>VIC1</td>\n",
       "      <td>NaN</td>\n",
       "      <td>NaN</td>\n",
       "    </tr>\n",
       "    <tr>\n",
       "      <th>196268</th>\n",
       "      <td>2021-03-12 22:00:00</td>\n",
       "      <td>4911.38</td>\n",
       "      <td>VIC1</td>\n",
       "      <td>NaN</td>\n",
       "      <td>NaN</td>\n",
       "    </tr>\n",
       "    <tr>\n",
       "      <th>196269</th>\n",
       "      <td>2021-03-12 22:30:00</td>\n",
       "      <td>4751.75</td>\n",
       "      <td>VIC1</td>\n",
       "      <td>NaN</td>\n",
       "      <td>NaN</td>\n",
       "    </tr>\n",
       "    <tr>\n",
       "      <th>196270</th>\n",
       "      <td>2021-03-12 23:00:00</td>\n",
       "      <td>4689.39</td>\n",
       "      <td>VIC1</td>\n",
       "      <td>NaN</td>\n",
       "      <td>NaN</td>\n",
       "    </tr>\n",
       "    <tr>\n",
       "      <th>196271</th>\n",
       "      <td>2021-03-12 23:30:00</td>\n",
       "      <td>4866.75</td>\n",
       "      <td>VIC1</td>\n",
       "      <td>NaN</td>\n",
       "      <td>NaN</td>\n",
       "    </tr>\n",
       "  </tbody>\n",
       "</table>\n",
       "<p>3045 rows × 5 columns</p>\n",
       "</div>"
      ],
      "text/plain": [
       "                  DATETIME  TOTALDEMAND REGIONID LOCATION  TEMPERATURE\n",
       "59856  2013-06-01 00:00:00      5781.73     VIC1      NaN          NaN\n",
       "59857  2013-06-01 00:30:00      5430.38     VIC1      NaN          NaN\n",
       "59858  2013-06-01 01:00:00      5149.84     VIC1      NaN          NaN\n",
       "59859  2013-06-01 01:30:00      5105.74     VIC1      NaN          NaN\n",
       "59860  2013-06-01 02:00:00      4939.19     VIC1      NaN          NaN\n",
       "...                    ...          ...      ...      ...          ...\n",
       "196267 2021-03-12 21:30:00      5106.15     VIC1      NaN          NaN\n",
       "196268 2021-03-12 22:00:00      4911.38     VIC1      NaN          NaN\n",
       "196269 2021-03-12 22:30:00      4751.75     VIC1      NaN          NaN\n",
       "196270 2021-03-12 23:00:00      4689.39     VIC1      NaN          NaN\n",
       "196271 2021-03-12 23:30:00      4866.75     VIC1      NaN          NaN\n",
       "\n",
       "[3045 rows x 5 columns]"
      ]
     },
     "execution_count": 169,
     "metadata": {},
     "output_type": "execute_result"
    }
   ],
   "source": [
    "# Find any cases where there's missing temperature values\n",
    "result[result['TEMPERATURE'].isnull()]"
   ]
  },
  {
   "cell_type": "code",
   "execution_count": 170,
   "metadata": {},
   "outputs": [
    {
     "data": {
      "text/html": [
       "<div>\n",
       "<style scoped>\n",
       "    .dataframe tbody tr th:only-of-type {\n",
       "        vertical-align: middle;\n",
       "    }\n",
       "\n",
       "    .dataframe tbody tr th {\n",
       "        vertical-align: top;\n",
       "    }\n",
       "\n",
       "    .dataframe thead th {\n",
       "        text-align: right;\n",
       "    }\n",
       "</style>\n",
       "<table border=\"1\" class=\"dataframe\">\n",
       "  <thead>\n",
       "    <tr style=\"text-align: right;\">\n",
       "      <th></th>\n",
       "      <th>DATETIME</th>\n",
       "      <th>TOTALDEMAND</th>\n",
       "      <th>REGIONID</th>\n",
       "      <th>LOCATION</th>\n",
       "      <th>TEMPERATURE</th>\n",
       "    </tr>\n",
       "  </thead>\n",
       "  <tbody>\n",
       "  </tbody>\n",
       "</table>\n",
       "</div>"
      ],
      "text/plain": [
       "Empty DataFrame\n",
       "Columns: [DATETIME, TOTALDEMAND, REGIONID, LOCATION, TEMPERATURE]\n",
       "Index: []"
      ]
     },
     "execution_count": 170,
     "metadata": {},
     "output_type": "execute_result"
    }
   ],
   "source": [
    "# Check for duplicate rows\n",
    "result[result.duplicated()]"
   ]
  },
  {
   "cell_type": "code",
   "execution_count": 171,
   "metadata": {},
   "outputs": [
    {
     "data": {
      "text/plain": [
       "(136657, 5)"
      ]
     },
     "execution_count": 171,
     "metadata": {},
     "output_type": "execute_result"
    }
   ],
   "source": [
    "# Drop the duplicated rows\n",
    "clean = result.drop_duplicates()\n",
    "clean.shape"
   ]
  },
  {
   "cell_type": "code",
   "execution_count": 172,
   "metadata": {},
   "outputs": [
    {
     "data": {
      "text/html": [
       "<div>\n",
       "<style scoped>\n",
       "    .dataframe tbody tr th:only-of-type {\n",
       "        vertical-align: middle;\n",
       "    }\n",
       "\n",
       "    .dataframe tbody tr th {\n",
       "        vertical-align: top;\n",
       "    }\n",
       "\n",
       "    .dataframe thead th {\n",
       "        text-align: right;\n",
       "    }\n",
       "</style>\n",
       "<table border=\"1\" class=\"dataframe\">\n",
       "  <thead>\n",
       "    <tr style=\"text-align: right;\">\n",
       "      <th></th>\n",
       "      <th>DATETIME</th>\n",
       "      <th>TOTALDEMAND</th>\n",
       "      <th>REGIONID</th>\n",
       "      <th>LOCATION</th>\n",
       "      <th>TEMPERATURE</th>\n",
       "    </tr>\n",
       "  </thead>\n",
       "  <tbody>\n",
       "    <tr>\n",
       "      <th>59856</th>\n",
       "      <td>2013-06-01 00:00:00</td>\n",
       "      <td>5781.73</td>\n",
       "      <td>VIC1</td>\n",
       "      <td>NaN</td>\n",
       "      <td>NaN</td>\n",
       "    </tr>\n",
       "    <tr>\n",
       "      <th>59857</th>\n",
       "      <td>2013-06-01 00:30:00</td>\n",
       "      <td>5430.38</td>\n",
       "      <td>VIC1</td>\n",
       "      <td>NaN</td>\n",
       "      <td>NaN</td>\n",
       "    </tr>\n",
       "    <tr>\n",
       "      <th>59858</th>\n",
       "      <td>2013-06-01 01:00:00</td>\n",
       "      <td>5149.84</td>\n",
       "      <td>VIC1</td>\n",
       "      <td>NaN</td>\n",
       "      <td>NaN</td>\n",
       "    </tr>\n",
       "    <tr>\n",
       "      <th>59859</th>\n",
       "      <td>2013-06-01 01:30:00</td>\n",
       "      <td>5105.74</td>\n",
       "      <td>VIC1</td>\n",
       "      <td>NaN</td>\n",
       "      <td>NaN</td>\n",
       "    </tr>\n",
       "    <tr>\n",
       "      <th>59860</th>\n",
       "      <td>2013-06-01 02:00:00</td>\n",
       "      <td>4939.19</td>\n",
       "      <td>VIC1</td>\n",
       "      <td>NaN</td>\n",
       "      <td>NaN</td>\n",
       "    </tr>\n",
       "    <tr>\n",
       "      <th>...</th>\n",
       "      <td>...</td>\n",
       "      <td>...</td>\n",
       "      <td>...</td>\n",
       "      <td>...</td>\n",
       "      <td>...</td>\n",
       "    </tr>\n",
       "    <tr>\n",
       "      <th>196267</th>\n",
       "      <td>2021-03-12 21:30:00</td>\n",
       "      <td>5106.15</td>\n",
       "      <td>VIC1</td>\n",
       "      <td>NaN</td>\n",
       "      <td>NaN</td>\n",
       "    </tr>\n",
       "    <tr>\n",
       "      <th>196268</th>\n",
       "      <td>2021-03-12 22:00:00</td>\n",
       "      <td>4911.38</td>\n",
       "      <td>VIC1</td>\n",
       "      <td>NaN</td>\n",
       "      <td>NaN</td>\n",
       "    </tr>\n",
       "    <tr>\n",
       "      <th>196269</th>\n",
       "      <td>2021-03-12 22:30:00</td>\n",
       "      <td>4751.75</td>\n",
       "      <td>VIC1</td>\n",
       "      <td>NaN</td>\n",
       "      <td>NaN</td>\n",
       "    </tr>\n",
       "    <tr>\n",
       "      <th>196270</th>\n",
       "      <td>2021-03-12 23:00:00</td>\n",
       "      <td>4689.39</td>\n",
       "      <td>VIC1</td>\n",
       "      <td>NaN</td>\n",
       "      <td>NaN</td>\n",
       "    </tr>\n",
       "    <tr>\n",
       "      <th>196271</th>\n",
       "      <td>2021-03-12 23:30:00</td>\n",
       "      <td>4866.75</td>\n",
       "      <td>VIC1</td>\n",
       "      <td>NaN</td>\n",
       "      <td>NaN</td>\n",
       "    </tr>\n",
       "  </tbody>\n",
       "</table>\n",
       "<p>3045 rows × 5 columns</p>\n",
       "</div>"
      ],
      "text/plain": [
       "                  DATETIME  TOTALDEMAND REGIONID LOCATION  TEMPERATURE\n",
       "59856  2013-06-01 00:00:00      5781.73     VIC1      NaN          NaN\n",
       "59857  2013-06-01 00:30:00      5430.38     VIC1      NaN          NaN\n",
       "59858  2013-06-01 01:00:00      5149.84     VIC1      NaN          NaN\n",
       "59859  2013-06-01 01:30:00      5105.74     VIC1      NaN          NaN\n",
       "59860  2013-06-01 02:00:00      4939.19     VIC1      NaN          NaN\n",
       "...                    ...          ...      ...      ...          ...\n",
       "196267 2021-03-12 21:30:00      5106.15     VIC1      NaN          NaN\n",
       "196268 2021-03-12 22:00:00      4911.38     VIC1      NaN          NaN\n",
       "196269 2021-03-12 22:30:00      4751.75     VIC1      NaN          NaN\n",
       "196270 2021-03-12 23:00:00      4689.39     VIC1      NaN          NaN\n",
       "196271 2021-03-12 23:30:00      4866.75     VIC1      NaN          NaN\n",
       "\n",
       "[3045 rows x 5 columns]"
      ]
     },
     "execution_count": 172,
     "metadata": {},
     "output_type": "execute_result"
    }
   ],
   "source": [
    "# Identify all the missing temperature values from the final clean version of the merged dataframe\n",
    "clean[clean['TEMPERATURE'].isnull()]"
   ]
  },
  {
   "cell_type": "code",
   "execution_count": 173,
   "metadata": {},
   "outputs": [
    {
     "data": {
      "text/plain": [
       "3045"
      ]
     },
     "execution_count": 173,
     "metadata": {},
     "output_type": "execute_result"
    }
   ],
   "source": [
    "# Get the row indices of all rows with missing temp values\n",
    "missing_idx = clean.index[clean['TEMPERATURE'].isnull()]\n",
    "len(missing_idx)"
   ]
  },
  {
   "cell_type": "code",
   "execution_count": 176,
   "metadata": {},
   "outputs": [
    {
     "name": "stdout",
     "output_type": "stream",
     "text": [
      "Found/missed/total:  1231 293 1524\n"
     ]
    }
   ],
   "source": [
    "# First iterate through the missing values (by row index) and attempt to find replacements in the MeteoStat database\n",
    "# Not all timepoints will be present, but try to fill as many gaps as possible.\n",
    "# MeteoStat only has readings on the hour...there are no :30 readings. Skip anything that is on the half-hour.\n",
    "\n",
    "found = 0\n",
    "missed = 0\n",
    "import datetime \n",
    "\n",
    "for idx in missing_idx:\n",
    "    #print(pd.clean.iloc[idx]['DATETIME'])\n",
    "    # Set the start and end dates for the Meteostat query\n",
    "    #print(idx)\n",
    "    start_date = clean.loc[idx]['DATETIME'].to_pydatetime()\n",
    "    #if (start_date.date() != datetime.date(2017,4,2)):\n",
    "        \n",
    "\n",
    "        # Only send the query if the missing value is on the hour\n",
    "    if (start_date.minute == 0):\n",
    "        end_date = start_date + timedelta(hours = 1)\n",
    "        \n",
    "            #print(\"On the hour, getting \",start_date, end_date)\n",
    "    \n",
    "        \n",
    "\n",
    "            \n",
    "        meteo_data = Hourly(loc=meteostat_ids[state], start=start_date, end=end_date, timezone=timezones[state])\n",
    "        meteo_data = meteo_data.fetch()\n",
    "        if (meteo_data.empty is False):\n",
    "            clean.at[idx,'TEMPERATURE'] = meteo_data.iloc[0]['temp']\n",
    "            found = found+1\n",
    "        else:\n",
    "            missed = missed + 1\n",
    "            \n",
    "print(\"Found/missed/total: \", found, missed, found+missed )\n",
    "        \n"
   ]
  },
  {
   "cell_type": "code",
   "execution_count": 179,
   "metadata": {},
   "outputs": [],
   "source": [
    "# We now filled in as many missing values as MeteoStat can provide.\n",
    "# Fill in as many remaining empty values using the built-in Pandas fillna method with a limit of 3 (ie: backfilling a maximum of 3 missed row)\n",
    "backfilled = clean.fillna(method='bfill', limit=3)\n",
    "\n",
    "# Now forward fill any missing values (up to a limit of 3)\n",
    "backfilled = backfilled.fillna(method='ffill', limit=3)\n",
    "\n",
    "# Finally set all LOCATION to 'Bankstown' (this is invariant for the entire NSW dataset)\n",
    "backfilled['LOCATION'] = locations[state]"
   ]
  },
  {
   "cell_type": "code",
   "execution_count": 180,
   "metadata": {},
   "outputs": [
    {
     "data": {
      "text/html": [
       "<div>\n",
       "<style scoped>\n",
       "    .dataframe tbody tr th:only-of-type {\n",
       "        vertical-align: middle;\n",
       "    }\n",
       "\n",
       "    .dataframe tbody tr th {\n",
       "        vertical-align: top;\n",
       "    }\n",
       "\n",
       "    .dataframe thead th {\n",
       "        text-align: right;\n",
       "    }\n",
       "</style>\n",
       "<table border=\"1\" class=\"dataframe\">\n",
       "  <thead>\n",
       "    <tr style=\"text-align: right;\">\n",
       "      <th></th>\n",
       "      <th>DATETIME</th>\n",
       "      <th>TOTALDEMAND</th>\n",
       "      <th>REGIONID</th>\n",
       "      <th>LOCATION</th>\n",
       "      <th>TEMPERATURE</th>\n",
       "    </tr>\n",
       "  </thead>\n",
       "  <tbody>\n",
       "    <tr>\n",
       "      <th>68796</th>\n",
       "      <td>2013-12-04 06:00:00</td>\n",
       "      <td>5232.26</td>\n",
       "      <td>VIC1</td>\n",
       "      <td>Melbourne (Olympic Park)</td>\n",
       "      <td>NaN</td>\n",
       "    </tr>\n",
       "    <tr>\n",
       "      <th>68797</th>\n",
       "      <td>2013-12-04 06:30:00</td>\n",
       "      <td>5805.43</td>\n",
       "      <td>VIC1</td>\n",
       "      <td>Melbourne (Olympic Park)</td>\n",
       "      <td>NaN</td>\n",
       "    </tr>\n",
       "    <tr>\n",
       "      <th>68798</th>\n",
       "      <td>2013-12-04 07:00:00</td>\n",
       "      <td>6076.35</td>\n",
       "      <td>VIC1</td>\n",
       "      <td>Melbourne (Olympic Park)</td>\n",
       "      <td>NaN</td>\n",
       "    </tr>\n",
       "  </tbody>\n",
       "</table>\n",
       "</div>"
      ],
      "text/plain": [
       "                 DATETIME  TOTALDEMAND REGIONID                  LOCATION  \\\n",
       "68796 2013-12-04 06:00:00      5232.26     VIC1  Melbourne (Olympic Park)   \n",
       "68797 2013-12-04 06:30:00      5805.43     VIC1  Melbourne (Olympic Park)   \n",
       "68798 2013-12-04 07:00:00      6076.35     VIC1  Melbourne (Olympic Park)   \n",
       "\n",
       "       TEMPERATURE  \n",
       "68796          NaN  \n",
       "68797          NaN  \n",
       "68798          NaN  "
      ]
     },
     "execution_count": 180,
     "metadata": {},
     "output_type": "execute_result"
    }
   ],
   "source": [
    "backfilled[backfilled['TEMPERATURE'].isnull()]"
   ]
  },
  {
   "cell_type": "code",
   "execution_count": 181,
   "metadata": {},
   "outputs": [],
   "source": [
    "# Write out the cleaned up temperature data in the same format as was originally supplied. This can then be used in pre-existing processing notebooks  \n",
    "final = backfilled[['LOCATION','DATETIME','TEMPERATURE']]\n",
    "final.to_csv('temperature_vic_cleaned.csv', index=False)"
   ]
  },
  {
   "cell_type": "code",
   "execution_count": 182,
   "metadata": {},
   "outputs": [
    {
     "data": {
      "text/plain": [
       "(136657, 3)"
      ]
     },
     "execution_count": 182,
     "metadata": {},
     "output_type": "execute_result"
    }
   ],
   "source": [
    "final.shape"
   ]
  },
  {
   "cell_type": "code",
   "execution_count": 183,
   "metadata": {},
   "outputs": [
    {
     "data": {
      "text/plain": [
       "LOCATION       0\n",
       "DATETIME       0\n",
       "TEMPERATURE    3\n",
       "dtype: int64"
      ]
     },
     "execution_count": 183,
     "metadata": {},
     "output_type": "execute_result"
    }
   ],
   "source": [
    "final.isna().sum()"
   ]
  }
 ],
 "metadata": {
  "interpreter": {
   "hash": "ac2eaa0ea0ebeafcc7822e65e46aa9d4f966f30b695406963e145ea4a91cd4fc"
  },
  "kernelspec": {
   "display_name": "",
   "language": "python",
   "name": "python3"
  },
  "language_info": {
   "codemirror_mode": {
    "name": "ipython",
    "version": 3
   },
   "file_extension": ".py",
   "mimetype": "text/x-python",
   "name": "python",
   "nbconvert_exporter": "python",
   "pygments_lexer": "ipython3",
   "version": "3.9.10"
  },
  "orig_nbformat": 4
 },
 "nbformat": 4,
 "nbformat_minor": 2
}
