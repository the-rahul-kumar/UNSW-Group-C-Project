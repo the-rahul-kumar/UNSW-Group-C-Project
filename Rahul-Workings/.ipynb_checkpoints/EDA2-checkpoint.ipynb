{
 "cells": [
  {
   "cell_type": "code",
   "execution_count": 1,
   "id": "f8e0a3f0",
   "metadata": {},
   "outputs": [],
   "source": [
    "# Script Name: EDA Analysis on the Datasets\n",
    "# Author: Rahul Kumar\n",
    "# Date: 11/3/22\n",
    "# Description: Gain some insights on the dataset\n",
    "\n",
    "import pandas as pd\n",
    "import numpy as np\n",
    "from math import sqrt\n",
    "import seaborn as sns\n",
    "import matplotlib.pyplot as plt\n",
    "\n",
    "# This actually sets the pandas display to show all rows and columns \n",
    "# when you are showing a dataframe, without skipping the center\n",
    "pd.set_option('display.max_rows', None)\n",
    "pd.set_option('display.max_columns', None)\n",
    "# sns.set_palette(\"Set3\")\n",
    "sns.set_theme()"
   ]
  },
  {
   "cell_type": "code",
   "execution_count": 2,
   "id": "c9a88da1",
   "metadata": {},
   "outputs": [],
   "source": [
    "# Strings for using in writing of files\n",
    "\n",
    "filepath = '../../UNSW-PROJECT-DATA/' # If you want to run the code, change the file path to where you store the files. This reference\n",
    "                                # is to where I store the files outside the github clone\n",
    "# filepath = '../data/UNSW-PROJECT-DATA/'    \n",
    "images = 'images/' #My folder specific image folder\n",
    "\n",
    "csv = '.csv'\n",
    "xlsx = '.xlsx'"
   ]
  },
  {
   "cell_type": "code",
   "execution_count": 3,
   "id": "e9ebdb63",
   "metadata": {},
   "outputs": [],
   "source": [
    "# c_file = 'combined'\n",
    "# c_file = 'combined_fd_Avg'\n",
    "c_file = 'demand_pv_temp_forecast_timefeatures_hols'\n",
    "t_file = 'temperature_cleaned_allstates'\n",
    "#c_file = 'dataset_v1_0'\n",
    "\n",
    "data = pd.read_csv(filepath+c_file+csv)\n",
    "temp = pd.read_csv(filepath+t_file+csv)\n",
    "\n",
    "# data = data.drop(data.columns[0], axis=1)\n",
    "\n",
    "def day_type_cat(day_type):\n",
    "    if day_type =='Day':\n",
    "        return 0\n",
    "    else:\n",
    "        return 1\n"
   ]
  },
  {
   "cell_type": "code",
   "execution_count": 8,
   "id": "72c87bcd",
   "metadata": {},
   "outputs": [
    {
     "data": {
      "text/html": [
       "<div>\n",
       "<style scoped>\n",
       "    .dataframe tbody tr th:only-of-type {\n",
       "        vertical-align: middle;\n",
       "    }\n",
       "\n",
       "    .dataframe tbody tr th {\n",
       "        vertical-align: top;\n",
       "    }\n",
       "\n",
       "    .dataframe thead th {\n",
       "        text-align: right;\n",
       "    }\n",
       "</style>\n",
       "<table border=\"1\" class=\"dataframe\">\n",
       "  <thead>\n",
       "    <tr style=\"text-align: right;\">\n",
       "      <th></th>\n",
       "      <th>STATE</th>\n",
       "      <th>DATETIME</th>\n",
       "      <th>TOTALDEMAND</th>\n",
       "      <th>POWER</th>\n",
       "      <th>LOCATION</th>\n",
       "      <th>TEMPERATURE</th>\n",
       "      <th>FORECASTDEMAND</th>\n",
       "      <th>Weekday</th>\n",
       "      <th>Quarter</th>\n",
       "      <th>Month</th>\n",
       "      <th>Season</th>\n",
       "      <th>Day</th>\n",
       "      <th>Year</th>\n",
       "      <th>SUNRISE</th>\n",
       "      <th>SUNSET</th>\n",
       "      <th>DAYTYPE</th>\n",
       "      <th>HOLIDAY</th>\n",
       "    </tr>\n",
       "  </thead>\n",
       "  <tbody>\n",
       "    <tr>\n",
       "      <th>0</th>\n",
       "      <td>NSW</td>\n",
       "      <td>2010-01-01 00:00:00</td>\n",
       "      <td>8038.00</td>\n",
       "      <td>NaN</td>\n",
       "      <td>Bankstown</td>\n",
       "      <td>23.1</td>\n",
       "      <td>7824.411831</td>\n",
       "      <td>Friday</td>\n",
       "      <td>1</td>\n",
       "      <td>1</td>\n",
       "      <td>Summer</td>\n",
       "      <td>1</td>\n",
       "      <td>2010</td>\n",
       "      <td>2010-01-01 04:48:00</td>\n",
       "      <td>2010-01-01 19:10:00</td>\n",
       "      <td>Night</td>\n",
       "      <td>True</td>\n",
       "    </tr>\n",
       "    <tr>\n",
       "      <th>1</th>\n",
       "      <td>NSW</td>\n",
       "      <td>2010-01-01 00:30:00</td>\n",
       "      <td>7809.31</td>\n",
       "      <td>NaN</td>\n",
       "      <td>Bankstown</td>\n",
       "      <td>22.9</td>\n",
       "      <td>7680.510417</td>\n",
       "      <td>Friday</td>\n",
       "      <td>1</td>\n",
       "      <td>1</td>\n",
       "      <td>Summer</td>\n",
       "      <td>1</td>\n",
       "      <td>2010</td>\n",
       "      <td>2010-01-01 04:48:00</td>\n",
       "      <td>2010-01-01 19:10:00</td>\n",
       "      <td>Night</td>\n",
       "      <td>True</td>\n",
       "    </tr>\n",
       "    <tr>\n",
       "      <th>2</th>\n",
       "      <td>NSW</td>\n",
       "      <td>2010-01-01 01:00:00</td>\n",
       "      <td>7483.69</td>\n",
       "      <td>NaN</td>\n",
       "      <td>Bankstown</td>\n",
       "      <td>22.6</td>\n",
       "      <td>7428.971370</td>\n",
       "      <td>Friday</td>\n",
       "      <td>1</td>\n",
       "      <td>1</td>\n",
       "      <td>Summer</td>\n",
       "      <td>1</td>\n",
       "      <td>2010</td>\n",
       "      <td>2010-01-01 04:48:00</td>\n",
       "      <td>2010-01-01 19:10:00</td>\n",
       "      <td>Night</td>\n",
       "      <td>True</td>\n",
       "    </tr>\n",
       "    <tr>\n",
       "      <th>3</th>\n",
       "      <td>NSW</td>\n",
       "      <td>2010-01-01 01:30:00</td>\n",
       "      <td>7117.23</td>\n",
       "      <td>NaN</td>\n",
       "      <td>Bankstown</td>\n",
       "      <td>22.5</td>\n",
       "      <td>7084.802162</td>\n",
       "      <td>Friday</td>\n",
       "      <td>1</td>\n",
       "      <td>1</td>\n",
       "      <td>Summer</td>\n",
       "      <td>1</td>\n",
       "      <td>2010</td>\n",
       "      <td>2010-01-01 04:48:00</td>\n",
       "      <td>2010-01-01 19:10:00</td>\n",
       "      <td>Night</td>\n",
       "      <td>True</td>\n",
       "    </tr>\n",
       "    <tr>\n",
       "      <th>4</th>\n",
       "      <td>NSW</td>\n",
       "      <td>2010-01-01 02:00:00</td>\n",
       "      <td>6812.03</td>\n",
       "      <td>NaN</td>\n",
       "      <td>Bankstown</td>\n",
       "      <td>22.5</td>\n",
       "      <td>6751.369600</td>\n",
       "      <td>Friday</td>\n",
       "      <td>1</td>\n",
       "      <td>1</td>\n",
       "      <td>Summer</td>\n",
       "      <td>1</td>\n",
       "      <td>2010</td>\n",
       "      <td>2010-01-01 04:48:00</td>\n",
       "      <td>2010-01-01 19:10:00</td>\n",
       "      <td>Night</td>\n",
       "      <td>True</td>\n",
       "    </tr>\n",
       "  </tbody>\n",
       "</table>\n",
       "</div>"
      ],
      "text/plain": [
       "  STATE             DATETIME  TOTALDEMAND  POWER   LOCATION  TEMPERATURE  \\\n",
       "0   NSW  2010-01-01 00:00:00      8038.00    NaN  Bankstown         23.1   \n",
       "1   NSW  2010-01-01 00:30:00      7809.31    NaN  Bankstown         22.9   \n",
       "2   NSW  2010-01-01 01:00:00      7483.69    NaN  Bankstown         22.6   \n",
       "3   NSW  2010-01-01 01:30:00      7117.23    NaN  Bankstown         22.5   \n",
       "4   NSW  2010-01-01 02:00:00      6812.03    NaN  Bankstown         22.5   \n",
       "\n",
       "   FORECASTDEMAND Weekday  Quarter  Month  Season  Day  Year  \\\n",
       "0     7824.411831  Friday        1      1  Summer    1  2010   \n",
       "1     7680.510417  Friday        1      1  Summer    1  2010   \n",
       "2     7428.971370  Friday        1      1  Summer    1  2010   \n",
       "3     7084.802162  Friday        1      1  Summer    1  2010   \n",
       "4     6751.369600  Friday        1      1  Summer    1  2010   \n",
       "\n",
       "               SUNRISE               SUNSET DAYTYPE  HOLIDAY  \n",
       "0  2010-01-01 04:48:00  2010-01-01 19:10:00   Night     True  \n",
       "1  2010-01-01 04:48:00  2010-01-01 19:10:00   Night     True  \n",
       "2  2010-01-01 04:48:00  2010-01-01 19:10:00   Night     True  \n",
       "3  2010-01-01 04:48:00  2010-01-01 19:10:00   Night     True  \n",
       "4  2010-01-01 04:48:00  2010-01-01 19:10:00   Night     True  "
      ]
     },
     "execution_count": 8,
     "metadata": {},
     "output_type": "execute_result"
    }
   ],
   "source": [
    "data.head()"
   ]
  },
  {
   "cell_type": "code",
   "execution_count": 4,
   "id": "288d17c6",
   "metadata": {},
   "outputs": [
    {
     "data": {
      "text/plain": [
       "(726195, 17)"
      ]
     },
     "execution_count": 4,
     "metadata": {},
     "output_type": "execute_result"
    }
   ],
   "source": [
    "data.shape\n"
   ]
  },
  {
   "cell_type": "code",
   "execution_count": 5,
   "id": "465ebe8a",
   "metadata": {},
   "outputs": [
    {
     "data": {
      "text/html": [
       "<div>\n",
       "<style scoped>\n",
       "    .dataframe tbody tr th:only-of-type {\n",
       "        vertical-align: middle;\n",
       "    }\n",
       "\n",
       "    .dataframe tbody tr th {\n",
       "        vertical-align: top;\n",
       "    }\n",
       "\n",
       "    .dataframe thead th {\n",
       "        text-align: right;\n",
       "    }\n",
       "</style>\n",
       "<table border=\"1\" class=\"dataframe\">\n",
       "  <thead>\n",
       "    <tr style=\"text-align: right;\">\n",
       "      <th></th>\n",
       "      <th>% Missing</th>\n",
       "    </tr>\n",
       "  </thead>\n",
       "  <tbody>\n",
       "    <tr>\n",
       "      <th>STATE</th>\n",
       "      <td>0.00</td>\n",
       "    </tr>\n",
       "    <tr>\n",
       "      <th>DATETIME</th>\n",
       "      <td>0.00</td>\n",
       "    </tr>\n",
       "    <tr>\n",
       "      <th>TOTALDEMAND</th>\n",
       "      <td>0.00</td>\n",
       "    </tr>\n",
       "    <tr>\n",
       "      <th>POWER</th>\n",
       "      <td>70.74</td>\n",
       "    </tr>\n",
       "    <tr>\n",
       "      <th>LOCATION</th>\n",
       "      <td>0.00</td>\n",
       "    </tr>\n",
       "    <tr>\n",
       "      <th>TEMPERATURE</th>\n",
       "      <td>0.00</td>\n",
       "    </tr>\n",
       "    <tr>\n",
       "      <th>FORECASTDEMAND</th>\n",
       "      <td>42.46</td>\n",
       "    </tr>\n",
       "    <tr>\n",
       "      <th>Weekday</th>\n",
       "      <td>0.00</td>\n",
       "    </tr>\n",
       "    <tr>\n",
       "      <th>Quarter</th>\n",
       "      <td>0.00</td>\n",
       "    </tr>\n",
       "    <tr>\n",
       "      <th>Month</th>\n",
       "      <td>0.00</td>\n",
       "    </tr>\n",
       "    <tr>\n",
       "      <th>Season</th>\n",
       "      <td>0.00</td>\n",
       "    </tr>\n",
       "    <tr>\n",
       "      <th>Day</th>\n",
       "      <td>0.00</td>\n",
       "    </tr>\n",
       "    <tr>\n",
       "      <th>Year</th>\n",
       "      <td>0.00</td>\n",
       "    </tr>\n",
       "    <tr>\n",
       "      <th>SUNRISE</th>\n",
       "      <td>0.00</td>\n",
       "    </tr>\n",
       "    <tr>\n",
       "      <th>SUNSET</th>\n",
       "      <td>0.00</td>\n",
       "    </tr>\n",
       "    <tr>\n",
       "      <th>DAYTYPE</th>\n",
       "      <td>0.00</td>\n",
       "    </tr>\n",
       "    <tr>\n",
       "      <th>HOLIDAY</th>\n",
       "      <td>0.00</td>\n",
       "    </tr>\n",
       "  </tbody>\n",
       "</table>\n",
       "</div>"
      ],
      "text/plain": [
       "                % Missing\n",
       "STATE                0.00\n",
       "DATETIME             0.00\n",
       "TOTALDEMAND          0.00\n",
       "POWER               70.74\n",
       "LOCATION             0.00\n",
       "TEMPERATURE          0.00\n",
       "FORECASTDEMAND      42.46\n",
       "Weekday              0.00\n",
       "Quarter              0.00\n",
       "Month                0.00\n",
       "Season               0.00\n",
       "Day                  0.00\n",
       "Year                 0.00\n",
       "SUNRISE              0.00\n",
       "SUNSET               0.00\n",
       "DAYTYPE              0.00\n",
       "HOLIDAY              0.00"
      ]
     },
     "execution_count": 5,
     "metadata": {},
     "output_type": "execute_result"
    }
   ],
   "source": [
    "percent_missing = round(data.isnull().sum() * 100 / len(data),2)\n",
    "missing_value_df = pd.DataFrame({'% Missing': percent_missing})\n",
    "missing_value_df"
   ]
  },
  {
   "cell_type": "code",
   "execution_count": 6,
   "id": "19c338ea",
   "metadata": {},
   "outputs": [
    {
     "data": {
      "text/plain": [
       "(726195, 17)"
      ]
     },
     "execution_count": 6,
     "metadata": {},
     "output_type": "execute_result"
    }
   ],
   "source": [
    "data.shape"
   ]
  },
  {
   "cell_type": "code",
   "execution_count": 7,
   "id": "e44408f0",
   "metadata": {},
   "outputs": [
    {
     "name": "stdout",
     "output_type": "stream",
     "text": [
      "<class 'pandas.core.frame.DataFrame'>\n",
      "RangeIndex: 726195 entries, 0 to 726194\n",
      "Data columns (total 17 columns):\n",
      " #   Column          Non-Null Count   Dtype  \n",
      "---  ------          --------------   -----  \n",
      " 0   STATE           726195 non-null  object \n",
      " 1   DATETIME        726195 non-null  object \n",
      " 2   TOTALDEMAND     726195 non-null  float64\n",
      " 3   POWER           212514 non-null  float64\n",
      " 4   LOCATION        726195 non-null  object \n",
      " 5   TEMPERATURE     726183 non-null  float64\n",
      " 6   FORECASTDEMAND  417844 non-null  float64\n",
      " 7   Weekday         726195 non-null  object \n",
      " 8   Quarter         726195 non-null  int64  \n",
      " 9   Month           726195 non-null  int64  \n",
      " 10  Season          726195 non-null  object \n",
      " 11  Day             726195 non-null  int64  \n",
      " 12  Year            726195 non-null  int64  \n",
      " 13  SUNRISE         726195 non-null  object \n",
      " 14  SUNSET          726195 non-null  object \n",
      " 15  DAYTYPE         726195 non-null  object \n",
      " 16  HOLIDAY         726195 non-null  bool   \n",
      "dtypes: bool(1), float64(4), int64(4), object(8)\n",
      "memory usage: 89.3+ MB\n"
     ]
    },
    {
     "ename": "KeyError",
     "evalue": "\"['STATE'] not in index\"",
     "output_type": "error",
     "traceback": [
      "\u001b[1;31m---------------------------------------------------------------------------\u001b[0m",
      "\u001b[1;31mKeyError\u001b[0m                                  Traceback (most recent call last)",
      "\u001b[1;32m~\\AppData\\Local\\Temp/ipykernel_26712/441410237.py\u001b[0m in \u001b[0;36m<module>\u001b[1;34m\u001b[0m\n\u001b[0;32m      2\u001b[0m \u001b[1;33m\u001b[0m\u001b[0m\n\u001b[0;32m      3\u001b[0m \u001b[0mtemp\u001b[0m\u001b[1;33m[\u001b[0m\u001b[1;34m'DATETIME'\u001b[0m\u001b[1;33m]\u001b[0m \u001b[1;33m=\u001b[0m \u001b[0mpd\u001b[0m\u001b[1;33m.\u001b[0m\u001b[0mto_datetime\u001b[0m\u001b[1;33m(\u001b[0m\u001b[0mtemp\u001b[0m\u001b[1;33m[\u001b[0m\u001b[1;34m'DATETIME'\u001b[0m\u001b[1;33m]\u001b[0m\u001b[1;33m)\u001b[0m\u001b[1;33m\u001b[0m\u001b[1;33m\u001b[0m\u001b[0m\n\u001b[1;32m----> 4\u001b[1;33m \u001b[0mtemp\u001b[0m \u001b[1;33m=\u001b[0m \u001b[0mtemp\u001b[0m\u001b[1;33m[\u001b[0m\u001b[1;33m[\u001b[0m\u001b[1;34m'DATETIME'\u001b[0m\u001b[1;33m,\u001b[0m\u001b[1;34m'STATE'\u001b[0m\u001b[1;33m,\u001b[0m\u001b[1;34m'TEMPERATURE'\u001b[0m\u001b[1;33m]\u001b[0m\u001b[1;33m]\u001b[0m\u001b[1;33m\u001b[0m\u001b[1;33m\u001b[0m\u001b[0m\n\u001b[0m\u001b[0;32m      5\u001b[0m \u001b[1;33m\u001b[0m\u001b[0m\n\u001b[0;32m      6\u001b[0m \u001b[0mdata\u001b[0m\u001b[1;33m[\u001b[0m\u001b[1;34m'DATETIME'\u001b[0m\u001b[1;33m]\u001b[0m \u001b[1;33m=\u001b[0m \u001b[0mpd\u001b[0m\u001b[1;33m.\u001b[0m\u001b[0mto_datetime\u001b[0m\u001b[1;33m(\u001b[0m\u001b[0mdata\u001b[0m\u001b[1;33m[\u001b[0m\u001b[1;34m'DATETIME'\u001b[0m\u001b[1;33m]\u001b[0m\u001b[1;33m)\u001b[0m\u001b[1;33m\u001b[0m\u001b[1;33m\u001b[0m\u001b[0m\n",
      "\u001b[1;32m~\\anaconda3\\lib\\site-packages\\pandas\\core\\frame.py\u001b[0m in \u001b[0;36m__getitem__\u001b[1;34m(self, key)\u001b[0m\n\u001b[0;32m   3459\u001b[0m             \u001b[1;32mif\u001b[0m \u001b[0mis_iterator\u001b[0m\u001b[1;33m(\u001b[0m\u001b[0mkey\u001b[0m\u001b[1;33m)\u001b[0m\u001b[1;33m:\u001b[0m\u001b[1;33m\u001b[0m\u001b[1;33m\u001b[0m\u001b[0m\n\u001b[0;32m   3460\u001b[0m                 \u001b[0mkey\u001b[0m \u001b[1;33m=\u001b[0m \u001b[0mlist\u001b[0m\u001b[1;33m(\u001b[0m\u001b[0mkey\u001b[0m\u001b[1;33m)\u001b[0m\u001b[1;33m\u001b[0m\u001b[1;33m\u001b[0m\u001b[0m\n\u001b[1;32m-> 3461\u001b[1;33m             \u001b[0mindexer\u001b[0m \u001b[1;33m=\u001b[0m \u001b[0mself\u001b[0m\u001b[1;33m.\u001b[0m\u001b[0mloc\u001b[0m\u001b[1;33m.\u001b[0m\u001b[0m_get_listlike_indexer\u001b[0m\u001b[1;33m(\u001b[0m\u001b[0mkey\u001b[0m\u001b[1;33m,\u001b[0m \u001b[0maxis\u001b[0m\u001b[1;33m=\u001b[0m\u001b[1;36m1\u001b[0m\u001b[1;33m)\u001b[0m\u001b[1;33m[\u001b[0m\u001b[1;36m1\u001b[0m\u001b[1;33m]\u001b[0m\u001b[1;33m\u001b[0m\u001b[1;33m\u001b[0m\u001b[0m\n\u001b[0m\u001b[0;32m   3462\u001b[0m \u001b[1;33m\u001b[0m\u001b[0m\n\u001b[0;32m   3463\u001b[0m         \u001b[1;31m# take() does not accept boolean indexers\u001b[0m\u001b[1;33m\u001b[0m\u001b[1;33m\u001b[0m\u001b[1;33m\u001b[0m\u001b[0m\n",
      "\u001b[1;32m~\\anaconda3\\lib\\site-packages\\pandas\\core\\indexing.py\u001b[0m in \u001b[0;36m_get_listlike_indexer\u001b[1;34m(self, key, axis)\u001b[0m\n\u001b[0;32m   1312\u001b[0m             \u001b[0mkeyarr\u001b[0m\u001b[1;33m,\u001b[0m \u001b[0mindexer\u001b[0m\u001b[1;33m,\u001b[0m \u001b[0mnew_indexer\u001b[0m \u001b[1;33m=\u001b[0m \u001b[0max\u001b[0m\u001b[1;33m.\u001b[0m\u001b[0m_reindex_non_unique\u001b[0m\u001b[1;33m(\u001b[0m\u001b[0mkeyarr\u001b[0m\u001b[1;33m)\u001b[0m\u001b[1;33m\u001b[0m\u001b[1;33m\u001b[0m\u001b[0m\n\u001b[0;32m   1313\u001b[0m \u001b[1;33m\u001b[0m\u001b[0m\n\u001b[1;32m-> 1314\u001b[1;33m         \u001b[0mself\u001b[0m\u001b[1;33m.\u001b[0m\u001b[0m_validate_read_indexer\u001b[0m\u001b[1;33m(\u001b[0m\u001b[0mkeyarr\u001b[0m\u001b[1;33m,\u001b[0m \u001b[0mindexer\u001b[0m\u001b[1;33m,\u001b[0m \u001b[0maxis\u001b[0m\u001b[1;33m)\u001b[0m\u001b[1;33m\u001b[0m\u001b[1;33m\u001b[0m\u001b[0m\n\u001b[0m\u001b[0;32m   1315\u001b[0m \u001b[1;33m\u001b[0m\u001b[0m\n\u001b[0;32m   1316\u001b[0m         if needs_i8_conversion(ax.dtype) or isinstance(\n",
      "\u001b[1;32m~\\anaconda3\\lib\\site-packages\\pandas\\core\\indexing.py\u001b[0m in \u001b[0;36m_validate_read_indexer\u001b[1;34m(self, key, indexer, axis)\u001b[0m\n\u001b[0;32m   1375\u001b[0m \u001b[1;33m\u001b[0m\u001b[0m\n\u001b[0;32m   1376\u001b[0m             \u001b[0mnot_found\u001b[0m \u001b[1;33m=\u001b[0m \u001b[0mlist\u001b[0m\u001b[1;33m(\u001b[0m\u001b[0mensure_index\u001b[0m\u001b[1;33m(\u001b[0m\u001b[0mkey\u001b[0m\u001b[1;33m)\u001b[0m\u001b[1;33m[\u001b[0m\u001b[0mmissing_mask\u001b[0m\u001b[1;33m.\u001b[0m\u001b[0mnonzero\u001b[0m\u001b[1;33m(\u001b[0m\u001b[1;33m)\u001b[0m\u001b[1;33m[\u001b[0m\u001b[1;36m0\u001b[0m\u001b[1;33m]\u001b[0m\u001b[1;33m]\u001b[0m\u001b[1;33m.\u001b[0m\u001b[0munique\u001b[0m\u001b[1;33m(\u001b[0m\u001b[1;33m)\u001b[0m\u001b[1;33m)\u001b[0m\u001b[1;33m\u001b[0m\u001b[1;33m\u001b[0m\u001b[0m\n\u001b[1;32m-> 1377\u001b[1;33m             \u001b[1;32mraise\u001b[0m \u001b[0mKeyError\u001b[0m\u001b[1;33m(\u001b[0m\u001b[1;34mf\"{not_found} not in index\"\u001b[0m\u001b[1;33m)\u001b[0m\u001b[1;33m\u001b[0m\u001b[1;33m\u001b[0m\u001b[0m\n\u001b[0m\u001b[0;32m   1378\u001b[0m \u001b[1;33m\u001b[0m\u001b[0m\n\u001b[0;32m   1379\u001b[0m \u001b[1;33m\u001b[0m\u001b[0m\n",
      "\u001b[1;31mKeyError\u001b[0m: \"['STATE'] not in index\""
     ]
    }
   ],
   "source": [
    "data.info() # Date time objects arent date time objects\n",
    "\n",
    "temp['DATETIME'] = pd.to_datetime(temp['DATETIME'])\n",
    "temp = temp[['DATETIME','STATE','TEMPERATURE']]\n",
    "\n",
    "data['DATETIME'] = pd.to_datetime(data['DATETIME'])\n",
    "data['WeekDayNo'] = data['DATETIME'].dt.dayofweek\n",
    "data['SUNRISE'] = pd.to_datetime(data['SUNRISE'])\n",
    "data['SUNSET'] = pd.to_datetime(data['SUNSET'])\n",
    "data['DAYTYPE_no'] = data['DAYTYPE'].apply(day_type_cat)\n",
    "\n",
    "#adding month name\n",
    "data['Month Name'] = data['DATETIME'].dt.month_name()\n",
    "\n",
    "\n",
    "print('\\n===================================================================================================\\n')\n",
    "data.info()"
   ]
  },
  {
   "cell_type": "code",
   "execution_count": null,
   "id": "3a56d00b",
   "metadata": {},
   "outputs": [],
   "source": [
    "merged = pd.merge(data, temp, left_on=['DATETIME','STATE'], right_on=['DATETIME','STATE'], how='left')"
   ]
  },
  {
   "cell_type": "code",
   "execution_count": null,
   "id": "b70e352e",
   "metadata": {},
   "outputs": [],
   "source": [
    "merged = merged.drop(columns=['TEMPERATURE_x'], axis=1)\n",
    "merged = merged.rename(columns={'TEMPERATURE_y':'TEMPERATURE'})\n",
    "data = merged"
   ]
  },
  {
   "cell_type": "code",
   "execution_count": null,
   "id": "84016bc1",
   "metadata": {},
   "outputs": [],
   "source": [
    "# Set the main dataframe to only include dates in the analysis range\n",
    "data = data[data['DATETIME'] > '20180401']\n",
    "data.head()"
   ]
  },
  {
   "cell_type": "code",
   "execution_count": null,
   "id": "c0a9b652",
   "metadata": {},
   "outputs": [],
   "source": [
    "data.describe()"
   ]
  },
  {
   "cell_type": "code",
   "execution_count": null,
   "id": "8c7a7956",
   "metadata": {},
   "outputs": [],
   "source": [
    "tdata = data\n",
    "data.isnull().sum()\n"
   ]
  },
  {
   "cell_type": "code",
   "execution_count": null,
   "id": "a650a67c",
   "metadata": {},
   "outputs": [],
   "source": [
    "data.shape"
   ]
  },
  {
   "cell_type": "code",
   "execution_count": null,
   "id": "8a1b0fd1",
   "metadata": {
    "scrolled": false
   },
   "outputs": [],
   "source": [
    "data.nunique()"
   ]
  },
  {
   "cell_type": "code",
   "execution_count": null,
   "id": "9bf3f001",
   "metadata": {},
   "outputs": [],
   "source": [
    "data.columns"
   ]
  },
  {
   "cell_type": "code",
   "execution_count": null,
   "id": "6073947b",
   "metadata": {},
   "outputs": [],
   "source": [
    "data = data[data['POWER'].notna()]"
   ]
  },
  {
   "cell_type": "code",
   "execution_count": null,
   "id": "2939eef8",
   "metadata": {},
   "outputs": [],
   "source": [
    "data.isnull().sum()"
   ]
  },
  {
   "cell_type": "code",
   "execution_count": null,
   "id": "a348542c",
   "metadata": {},
   "outputs": [],
   "source": [
    "percent_missing = round(data.isnull().sum() * 100 / len(data),2)\n",
    "missing_value_df = pd.DataFrame({'% Missing': percent_missing})\n",
    "missing_value_df"
   ]
  },
  {
   "cell_type": "code",
   "execution_count": null,
   "id": "1f2fcae2",
   "metadata": {},
   "outputs": [],
   "source": [
    "plt.figure(figsize=(12,12)) # this creates a figure 8 inch wide, 4 inch high\n",
    "sns.histplot(data, x=\"TOTALDEMAND\")\n",
    "plt.show()"
   ]
  },
  {
   "cell_type": "code",
   "execution_count": null,
   "id": "e7dc9ed5",
   "metadata": {},
   "outputs": [],
   "source": [
    "plt.figure(figsize=(12,12)) # this creates a figure 8 inch wide, 4 inch high\n",
    "sns.histplot(data, x=\"TEMPERATURE\")\n",
    "plt.show()"
   ]
  },
  {
   "cell_type": "code",
   "execution_count": null,
   "id": "0234a34b",
   "metadata": {},
   "outputs": [],
   "source": [
    "plt.figure(figsize=(12,12)) # this creates a figure 8 inch wide, 4 inch high\n",
    "sns.histplot(data, x=\"FORECASTDEMAND\")\n",
    "plt.show()"
   ]
  },
  {
   "cell_type": "code",
   "execution_count": null,
   "id": "eb0070a8",
   "metadata": {},
   "outputs": [],
   "source": [
    "fig, axes = plt.subplots(1, 3, figsize=(18, 6))\n",
    "fig.suptitle('Distribution Analysis of Key Variables')\n",
    "\n",
    "# Bulbasaur\n",
    "sns.kdeplot(ax=axes[0],data=data, x='TOTALDEMAND', hue='STATE', fill=True, alpha=0.1)\n",
    "# plt.xlabel(ax=axes[0]'Total Demand', fontsize=18)\n",
    "# axes[0].set_title(\"Test\")\n",
    "axes[0].set_xlabel('Total Demand')\n",
    "axes[0].set_ylabel('Density')\n",
    "\n",
    "\n",
    "# Charmander\n",
    "sns.kdeplot(ax=axes[1],data=data, x='TEMPERATURE', hue='STATE', fill=True, alpha=0.1)\n",
    "# axes[1].set_title(\"Test2\")\n",
    "axes[1].set_xlabel('Temperature')\n",
    "axes[1].set_ylabel('')\n",
    "\n",
    "# Squirtle\n",
    "sns.kdeplot(ax=axes[2],data=data, x='POWER', hue='STATE', fill=True, alpha=0.1)\n",
    "# axes[2].set_title(\"Test3\")\n",
    "axes[2].set_xlabel('Power')\n",
    "axes[2].set_ylabel('')\n",
    "\n",
    "# axes.set_ylabel('test2')\n",
    "\n",
    "plt.savefig(images+'Distribution.png',bbox_inches='tight')"
   ]
  },
  {
   "cell_type": "code",
   "execution_count": null,
   "id": "f11765c8",
   "metadata": {},
   "outputs": [],
   "source": [
    "fig, axes = plt.subplots(1, 3, figsize=(18, 6))\n",
    "fig.suptitle('Box Plot of Various Time Bucket Classification')\n",
    "\n",
    "\n",
    "sns.boxplot(ax=axes[0],data=data, x=data['Weekday'], y='TOTALDEMAND',order=['Monday','Tuesday','Wednesday','Thursday','Friday','Saturday','Sunday'])\n",
    "# plt.xlabel(ax=axes[0]'Total Demand', fontsize=18)\n",
    "# axes[0].set_title(\"Test\")\n",
    "axes[0].set_xlabel('Weekday')\n",
    "axes[0].set_xticklabels(['Monday','Tuesday','Wednesday','Thursday','Friday','Saturday','Sunday'], rotation = 45)\n",
    "axes[0].set_ylabel('Total Demand')\n",
    "\n",
    "\n",
    "sns.boxplot(ax=axes[1],data=data, x=data['Season'], y='TOTALDEMAND',order=['Summer', 'Autumn', 'Winter', 'Spring'])\n",
    "# plt.xlabel(ax=axes[0]'Total Demand', fontsize=18)\n",
    "# axes[0].set_title(\"Test\")\n",
    "axes[1].set_xlabel('Season')\n",
    "axes[1].set_ylabel('Total Demand')\n",
    "\n",
    "\n",
    "sns.boxplot(ax=axes[2],data=data,x=data['DAYTYPE'], y='TOTALDEMAND',order=['Day','Night'])\n",
    "# plt.xlabel(ax=axes[0]'Total Demand', fontsize=18)\n",
    "# axes[0].set_title(\"Test\")\n",
    "axes[2].set_xlabel('Day Type')\n",
    "axes[2].set_ylabel('Total Demand')\n",
    "\n",
    "# axes.set_ylabel('test2')\n",
    "\n",
    "plt.savefig(images+'BoxPlots.png',bbox_inches='tight')"
   ]
  },
  {
   "cell_type": "code",
   "execution_count": null,
   "id": "06291b2e",
   "metadata": {
    "scrolled": false
   },
   "outputs": [],
   "source": [
    "plt.figure(figsize=(10,10))\n",
    "# mask = np.triu(np.ones_like(data.corr()))\n",
    "heatmap = sns.heatmap(data.corr(), vmin=-1, vmax=1, annot=True)\n",
    "plt.savefig(images+'CorrelationHeatMap.png',bbox_inches='tight')\n",
    "plt.show()"
   ]
  },
  {
   "cell_type": "code",
   "execution_count": null,
   "id": "d5f9f83e",
   "metadata": {},
   "outputs": [],
   "source": [
    "df = data[['STATE', 'DATETIME', 'TEMPERATURE', 'TOTALDEMAND', 'POWER', 'FORECASTDEMAND', 'Season','DAYTYPE','HOLIDAY']]\n",
    "df['DATETIME'] = df[\"DATETIME\"].dt.date\n",
    "df.head()"
   ]
  },
  {
   "cell_type": "code",
   "execution_count": null,
   "id": "5e630299",
   "metadata": {},
   "outputs": [],
   "source": [
    "df_day_temp = df.groupby(['STATE','DATETIME','Season','HOLIDAY']).mean().reset_index()\n",
    "df_day_temp2 = df_day_temp[['STATE', 'DATETIME', 'TEMPERATURE']]\n",
    "df_day_temp2.head()\n",
    "\n",
    "mt = df.groupby(['DATETIME','STATE']).mean().reset_index()"
   ]
  },
  {
   "cell_type": "code",
   "execution_count": null,
   "id": "73113250",
   "metadata": {},
   "outputs": [],
   "source": [
    "mt[(mt['STATE'] == 'QLD') & (mt['TEMPERATURE'] < 15)]"
   ]
  },
  {
   "cell_type": "code",
   "execution_count": null,
   "id": "cc46acee",
   "metadata": {},
   "outputs": [],
   "source": [
    "sns.lineplot(data=mt[mt['STATE'] == 'QLD'], x='DATETIME', y='TEMPERATURE')"
   ]
  },
  {
   "cell_type": "code",
   "execution_count": null,
   "id": "58ffba87",
   "metadata": {},
   "outputs": [],
   "source": [
    "df_day = df.groupby(['STATE','DATETIME','Season','HOLIDAY']).sum().reset_index()\n",
    "df_day = df_day.drop(['TEMPERATURE'], axis=1)\n",
    "df_day.head()"
   ]
  },
  {
   "cell_type": "code",
   "execution_count": null,
   "id": "0541f343",
   "metadata": {},
   "outputs": [],
   "source": [
    "df_day2 = df_day.merge(df_day_temp2, left_on=['STATE','DATETIME'], right_on = ['STATE','DATETIME'],how = 'outer')\n",
    "df_day2.head()\n",
    "df_day2 = df_day2.rename(columns={'TEMPERATURE':'Average daily temperature (C)'})"
   ]
  },
  {
   "cell_type": "code",
   "execution_count": null,
   "id": "12dbb464",
   "metadata": {
    "scrolled": false
   },
   "outputs": [],
   "source": [
    "fig, axes = plt.subplots(4, 1, figsize=(15, 20))\n",
    "# fig.suptitle('Box Plot of Various Time Bucket Classification')\n",
    "sns.scatterplot(ax=axes[0],x = 'DATETIME', y = 'TOTALDEMAND', data = df_day2.loc[df_day2['STATE'] == 'NSW'],hue=\"Season\")\n",
    "ax = plt.twinx(axes[0])\n",
    "sns.lineplot(ax=ax, x = 'DATETIME', y = 'Average daily temperature (C)', data = df_day2.loc[df_day2['STATE'] == 'NSW'], color='#4c26a6',alpha  = 0.4)\n",
    "axes[0].set_title(\"NSW\")\n",
    "axes[0].set_xlabel('')\n",
    "axes[0].set_ylabel('Combined daily demand (MW)')\n",
    "axes[0].legend(loc='lower left', bbox_to_anchor=(0, 1.02), fancybox=True, shadow=True, ncol=5)\n",
    "\n",
    "sns.scatterplot(ax=axes[1],x = 'DATETIME', y = 'TOTALDEMAND', data = df_day2.loc[df_day2['STATE'] == 'VIC'],hue=\"Season\")\n",
    "ax = plt.twinx(axes[1])\n",
    "sns.lineplot(ax=ax, x = 'DATETIME', y = 'Average daily temperature (C)', data = df_day2.loc[df_day2['STATE'] == 'VIC'], color='#4c26a6',alpha  = 0.4)\n",
    "axes[1].set_title(\"VIC\")\n",
    "axes[1].set_xlabel('')\n",
    "axes[1].set_ylabel('Combined daily demand (MW)')\n",
    "axes[1].legend([],[], frameon=False)\n",
    "\n",
    "\n",
    "sns.scatterplot(ax=axes[2],x = 'DATETIME', y = 'TOTALDEMAND', data = df_day2.loc[df_day2['STATE'] == 'QLD'],hue=\"Season\")\n",
    "ax = plt.twinx(axes[2])\n",
    "sns.lineplot(ax=ax, x = 'DATETIME', y = 'Average daily temperature (C)', data = df_day2.loc[df_day2['STATE'] == 'QLD'], color='#4c26a6',alpha  = 0.4)\n",
    "axes[2].set_title(\"QLD\")\n",
    "axes[2].set_xlabel('')\n",
    "axes[2].set_ylabel('Combined daily demand (MW)')\n",
    "axes[2].legend([],[], frameon=False)\n",
    "\n",
    "\n",
    "sns.scatterplot(ax=axes[3],x = 'DATETIME', y = 'TOTALDEMAND', data = df_day2.loc[df_day2['STATE'] == 'SA'],hue=\"Season\")\n",
    "ax = plt.twinx(axes[3])\n",
    "sns.lineplot(ax=ax, x = 'DATETIME', y = 'Average daily temperature (C)', data = df_day2.loc[df_day2['STATE'] == 'SA'], color='#4c26a6',alpha  = 0.4)\n",
    "axes[3].set_title(\"SA\")\n",
    "axes[3].set_xlabel('Date')\n",
    "axes[3].set_ylabel('Combined daily demand (MW)')\n",
    "axes[3].legend([],[], frameon=False)\n",
    "\n",
    "plt.savefig(images+'DemandTrendSeason.png',bbox_inches='tight')"
   ]
  },
  {
   "cell_type": "code",
   "execution_count": null,
   "id": "fa2b228c",
   "metadata": {},
   "outputs": [],
   "source": [
    "df2 = data[['STATE', 'DATETIME', 'TOTALDEMAND', 'POWER', 'FORECASTDEMAND', 'Season','DAYTYPE','HOLIDAY']]\n",
    "df2['Hour'] = df2[\"DATETIME\"].dt.hour\n",
    "df2.head()"
   ]
  },
  {
   "cell_type": "code",
   "execution_count": null,
   "id": "24280de4",
   "metadata": {},
   "outputs": [],
   "source": [
    "df_hour = df2.groupby(['STATE','Hour','DAYTYPE']).mean().reset_index()"
   ]
  },
  {
   "cell_type": "code",
   "execution_count": null,
   "id": "47c3c85a",
   "metadata": {},
   "outputs": [],
   "source": [
    "fig, axes = plt.subplots(4, 1, figsize=(10, 10))\n",
    "# fig.suptitle('Box Plot of Various Time Bucket Classification')\n",
    "sns.scatterplot(ax=axes[0],x = 'Hour', y = 'TOTALDEMAND', data = df_hour.loc[df_hour['STATE'] == 'NSW'],hue=\"DAYTYPE\")\n",
    "# plt.xlabel(ax=axes[0]'Total Demand', fontsize=18)\n",
    "axes[0].set_title(\"NSW\")\n",
    "axes[0].set_xlabel('')\n",
    "axes[0].set_ylabel('TOTALDEMAND')\n",
    "axes[0].legend(loc='lower left', bbox_to_anchor=(0, 1.02), fancybox=True, shadow=True, ncol=5)\n",
    "\n",
    "\n",
    "sns.scatterplot(ax=axes[1],x = 'Hour', y = 'TOTALDEMAND', data = df_hour.loc[df_hour['STATE'] == 'VIC'],hue=\"DAYTYPE\")\n",
    "# plt.xlabel(ax=axes[0]'Total Demand', fontsize=18)\n",
    "axes[1].set_title(\"VIC\")\n",
    "axes[1].set_xlabel('')\n",
    "axes[1].set_ylabel('TOTALDEMAND')\n",
    "axes[1].legend([],[], frameon=False)\n",
    "\n",
    "sns.scatterplot(ax=axes[2],x = 'Hour', y = 'TOTALDEMAND', data = df_hour.loc[df_hour['STATE'] == 'QLD'],hue=\"DAYTYPE\")\n",
    "# plt.xlabel(ax=axes[0]'Total Demand', fontsize=18)\n",
    "axes[2].set_title(\"QLD\")\n",
    "axes[2].set_xlabel('')\n",
    "axes[2].set_ylabel('TOTALDEMAND')\n",
    "axes[2].legend([],[], frameon=False)\n",
    "\n",
    "sns.scatterplot(ax=axes[3],x = 'Hour', y = 'TOTALDEMAND', data = df_hour.loc[df_hour['STATE'] == 'SA'],hue=\"DAYTYPE\")\n",
    "# plt.xlabel(ax=axes[0]'Total Demand', fontsize=18)\n",
    "axes[3].set_title(\"SA\")\n",
    "axes[3].set_xlabel('Hour')\n",
    "axes[3].set_ylabel('TOTALDEMAND')\n",
    "axes[3].legend([],[], frameon=False)\n",
    "\n",
    "plt.savefig(images+'HourlyDemandTrendAvg.png',bbox_inches='tight')"
   ]
  },
  {
   "cell_type": "code",
   "execution_count": null,
   "id": "3e8c3da7",
   "metadata": {},
   "outputs": [],
   "source": [
    "df_day2['DATETIME'] = pd.to_datetime(df_day2['DATETIME'])\n",
    "df_day2['WEEKDAY'] = df_day2['DATETIME'].dt.day_name()\n",
    "df_day2 = df_day2.drop(['TEMPERATURE'], axis=1)\n",
    "df_day2.head()"
   ]
  },
  {
   "cell_type": "code",
   "execution_count": null,
   "id": "29a2d518",
   "metadata": {},
   "outputs": [],
   "source": [
    "df_weekday = df_day2.groupby(['STATE','WEEKDAY','Season']).mean().reset_index()\n",
    "df_weekday['WEEKDAY'] = pd.Categorical(df_weekday['WEEKDAY'],categories=['Monday', 'Tuesday', 'Wednesday', 'Thursday', 'Friday', 'Saturday', 'Sunday'], ordered=True)\n",
    "df_weekday.head()"
   ]
  },
  {
   "cell_type": "code",
   "execution_count": null,
   "id": "8ba590e5",
   "metadata": {},
   "outputs": [],
   "source": [
    "fig, axes = plt.subplots(4, 1, figsize=(10, 15))\n",
    "# fig.suptitle('Box Plot of Various Time Bucket Classification')\n",
    "sns.scatterplot(ax=axes[0],x = 'WEEKDAY', y = 'TOTALDEMAND', data = df_weekday.loc[df_weekday['STATE'] == 'NSW'], hue = 'Season')\n",
    "# plt.xlabel(ax=axes[0]'Total Demand', fontsize=18)\n",
    "axes[0].set_title(\"NSW\")\n",
    "axes[0].set_xlabel('')\n",
    "axes[0].set_ylabel('TOTALDEMAND')\n",
    "axes[0].legend(loc='lower left', bbox_to_anchor=(0, 1.08), fancybox=True, shadow=True, ncol=5)\n",
    "\n",
    "\n",
    "sns.scatterplot(ax=axes[1],x = 'WEEKDAY', y = 'TOTALDEMAND', data = df_weekday.loc[df_weekday['STATE'] == 'NSW'], hue = 'Season')\n",
    "# plt.xlabel(ax=axes[0]'Total Demand', fontsize=18)\n",
    "axes[1].set_title(\"VIC\")\n",
    "axes[1].set_xlabel('')\n",
    "axes[1].set_ylabel('TOTALDEMAND')\n",
    "axes[1].legend([],[], frameon=False)\n",
    "\n",
    "sns.scatterplot(ax=axes[2],x = 'WEEKDAY', y = 'TOTALDEMAND', data = df_weekday.loc[df_weekday['STATE'] == 'NSW'], hue = 'Season')\n",
    "# plt.xlabel(ax=axes[0]'Total Demand', fontsize=18)\n",
    "axes[2].set_title(\"QLD\")\n",
    "axes[2].set_xlabel('')\n",
    "axes[2].set_ylabel('TOTALDEMAND')\n",
    "axes[2].legend([],[], frameon=False)\n",
    "\n",
    "sns.scatterplot(ax=axes[3],x = 'WEEKDAY', y = 'TOTALDEMAND', data = df_weekday.loc[df_weekday['STATE'] == 'NSW'], hue = 'Season')\n",
    "# plt.xlabel(ax=axes[0]'Total Demand', fontsize=18)\n",
    "axes[3].set_title(\"SA\")\n",
    "axes[3].set_xlabel('WEEKDAY')\n",
    "axes[3].set_ylabel('TOTALDEMAND')\n",
    "axes[3].legend([],[], frameon=False)\n",
    "\n",
    "plt.savefig(images+'WeekdayDemandTrendAvg.png',bbox_inches='tight')"
   ]
  },
  {
   "cell_type": "code",
   "execution_count": null,
   "id": "6fc089fb",
   "metadata": {},
   "outputs": [],
   "source": [
    "tdata.head()"
   ]
  },
  {
   "cell_type": "code",
   "execution_count": null,
   "id": "7e848203",
   "metadata": {},
   "outputs": [],
   "source": [
    "df_year = tdata.groupby(['STATE','Year']).sum().reset_index()\n",
    "df_year"
   ]
  },
  {
   "cell_type": "code",
   "execution_count": null,
   "id": "c4e0fe5b",
   "metadata": {},
   "outputs": [],
   "source": [
    "plt.figure(figsize=(15,4))\n",
    "# fig, axes = plt.subplots(4, 1, figsize=(15, 20))\n",
    "# fig.suptitle('Box Plot of Various Time Bucket Classification')\n",
    "sns.lineplot(x = 'Year', y = 'TOTALDEMAND', data = df_year.loc[df_year['STATE'] == 'NSW'])\n",
    "sns.lineplot(x = 'Year', y = 'POWER', data = df_year.loc[df_year['STATE'] == 'NSW'])\n",
    "axes[0].set_title(\"NSW\")\n",
    "axes[0].set_xlabel('')\n",
    "axes[0].set_ylabel('TOTALDEMAND')\n",
    "axes[0].legend(loc='lower left', bbox_to_anchor=(0, 1.02), fancybox=True, shadow=True, ncol=5)"
   ]
  },
  {
   "cell_type": "code",
   "execution_count": null,
   "id": "88addb85",
   "metadata": {},
   "outputs": [],
   "source": [
    "data.head()"
   ]
  },
  {
   "cell_type": "code",
   "execution_count": null,
   "id": "10d77946",
   "metadata": {},
   "outputs": [],
   "source": [
    "df_qld = data.loc[data['STATE'] == 'QLD']"
   ]
  },
  {
   "cell_type": "code",
   "execution_count": null,
   "id": "84b0325e",
   "metadata": {},
   "outputs": [],
   "source": [
    "df_qld.head()"
   ]
  },
  {
   "cell_type": "code",
   "execution_count": null,
   "id": "1dc6fc93",
   "metadata": {},
   "outputs": [],
   "source": [
    "df_temp_qld = df_qld[['DATETIME', 'TEMPERATURE','Season','DAYTYPE']]\n",
    "df_temp_qld['DATE'] = df_temp_qld[\"DATETIME\"].dt.date\n",
    "df_temp_qld['DATE'] = pd.to_datetime(df_temp_qld['DATE'])\n",
    "df_temp_qld['HOUR'] = df_temp_qld[\"DATETIME\"].dt.hour\n",
    "\n",
    "df_temp_qld.head()"
   ]
  },
  {
   "cell_type": "code",
   "execution_count": null,
   "id": "94ddfe4c",
   "metadata": {},
   "outputs": [],
   "source": [
    "df_temp_qld.info()"
   ]
  },
  {
   "cell_type": "code",
   "execution_count": null,
   "id": "f0893949",
   "metadata": {},
   "outputs": [],
   "source": [
    "test = df_temp_qld[(df_temp_qld['DATE'] == '2018-08-04')]\n",
    "# test = df_temp_qld[(df_temp_qld['DATE'] == '2018-04-06')]\n",
    "test"
   ]
  },
  {
   "cell_type": "code",
   "execution_count": null,
   "id": "4411b303",
   "metadata": {},
   "outputs": [],
   "source": [
    "plt.figure(figsize=(25,10))\n",
    "sns.scatterplot(x = 'DATETIME', y = 'TEMPERATURE', data = df_temp_qld.loc[df_temp_qld['Season'] == 'Winter'], hue = 'Season')"
   ]
  },
  {
   "cell_type": "code",
   "execution_count": null,
   "id": "47c82ced",
   "metadata": {
    "scrolled": false
   },
   "outputs": [],
   "source": [
    "plt.figure(figsize=(25,10))\n",
    "sns.scatterplot(x = 'HOUR', y = 'TEMPERATURE', data = test, hue = 'DAYTYPE', s=200)"
   ]
  },
  {
   "cell_type": "code",
   "execution_count": null,
   "id": "4490429a",
   "metadata": {},
   "outputs": [],
   "source": [
    "test2= df_temp_qld.groupby(['DATE','Season']).median().reset_index()\n",
    "# test2= df_temp_qld.groupby(['HOUR','Season']).mean().reset_index()\n",
    "test2.head(150)"
   ]
  },
  {
   "cell_type": "code",
   "execution_count": null,
   "id": "61c982da",
   "metadata": {},
   "outputs": [],
   "source": [
    "plt.figure(figsize=(25,10))\n",
    "sns.scatterplot(x = 'DATE', y = 'TEMPERATURE', data = test2.loc[test2['Season'] == 'Winter'], hue = 'Season')"
   ]
  },
  {
   "cell_type": "code",
   "execution_count": null,
   "id": "72e94b33",
   "metadata": {},
   "outputs": [],
   "source": [
    "data['HOLIDAY'].value_counts()"
   ]
  },
  {
   "cell_type": "code",
   "execution_count": null,
   "id": "868f3270",
   "metadata": {},
   "outputs": [],
   "source": [
    "(7614/(204900+7614))*100"
   ]
  },
  {
   "cell_type": "code",
   "execution_count": null,
   "id": "d011dcef",
   "metadata": {},
   "outputs": [],
   "source": [
    "data_state = data"
   ]
  },
  {
   "cell_type": "code",
   "execution_count": null,
   "id": "d252c5c0",
   "metadata": {},
   "outputs": [],
   "source": [
    "plt.figure(figsize=(15,15))\n",
    "sns.boxplot(data=data, x=data['STATE'], y='TOTALDEMAND')"
   ]
  },
  {
   "cell_type": "code",
   "execution_count": null,
   "id": "06ae5816",
   "metadata": {},
   "outputs": [],
   "source": [
    "fig, axes = plt.subplots(1, 3, figsize=(18, 6))\n",
    "# fig.suptitle('Main Data Box Plot')\n",
    "\n",
    "sns.boxplot(ax=axes[0],data=data, x=data['STATE'], y='TOTALDEMAND')\n",
    "# plt.xlabel(ax=axes[0]'Total Demand', fontsize=18)\n",
    "# axes[0].set_title(\"Test\")\n",
    "axes[0].set_xlabel('STATE')\n",
    "axes[0].set_ylabel('TOTALDEMAND')\n",
    "\n",
    "\n",
    "sns.boxplot(ax=axes[1],data=data, x=data['STATE'], y='TEMPERATURE')\n",
    "# plt.xlabel(ax=axes[0]'Total Demand', fontsize=18)\n",
    "# axes[0].set_title(\"Test\")\n",
    "axes[1].set_xlabel('STATE')\n",
    "axes[1].set_ylabel('TEMPERATURE')\n",
    "\n",
    "\n",
    "sns.boxplot(ax=axes[2],data=data,x=data['STATE'], y='POWER')\n",
    "# plt.xlabel(ax=axes[0]'Total Demand', fontsize=18)\n",
    "# axes[0].set_title(\"Test\")\n",
    "axes[2].set_xlabel('STATE')\n",
    "axes[2].set_ylabel('POWER')\n",
    "\n",
    "# axes.set_ylabel('test2')\n",
    "\n",
    "plt.savefig(images+'BoxPlots2.png',bbox_inches='tight')"
   ]
  },
  {
   "cell_type": "code",
   "execution_count": null,
   "id": "8f76fdef",
   "metadata": {},
   "outputs": [],
   "source": [
    "data.groupby(['STATE'])['TOTALDEMAND'].describe().to_csv(\"tdstat.csv\")"
   ]
  },
  {
   "cell_type": "code",
   "execution_count": null,
   "id": "0548c186",
   "metadata": {},
   "outputs": [],
   "source": [
    "data.groupby(['STATE'])['POWER'].describe().to_csv(\"powerstat.csv\")"
   ]
  },
  {
   "cell_type": "code",
   "execution_count": null,
   "id": "e533c426",
   "metadata": {},
   "outputs": [],
   "source": [
    "data.groupby(['STATE'])['TEMPERATURE'].describe().to_csv(\"tempstat.csv\")"
   ]
  },
  {
   "cell_type": "code",
   "execution_count": null,
   "id": "718400b7",
   "metadata": {},
   "outputs": [],
   "source": [
    "fig, axes = plt.subplots(1, 3, figsize=(18, 6))\n",
    "fig.suptitle('Distribution Analysis of Key Variables')\n",
    "\n",
    "# Bulbasaur\n",
    "sns.kdeplot(ax=axes[0],data=data, x='TOTALDEMAND', hue='STATE', fill=True, alpha=0.1)\n",
    "# plt.xlabel(ax=axes[0]'Total Demand', fontsize=18)\n",
    "# axes[0].set_title(\"Test\")\n",
    "axes[0].set_xlabel('Total Demand')\n",
    "axes[0].set_ylabel('Density')\n",
    "\n",
    "\n",
    "# Charmander\n",
    "sns.kdeplot(ax=axes[1],data=data, x='POWER', hue='STATE', fill=True, alpha=0.1)\n",
    "# axes[1].set_title(\"Test2\")\n",
    "axes[1].set_xlabel('POWER')\n",
    "axes[1].set_ylabel('')\n",
    "\n",
    "# Squirtle\n",
    "sns.kdeplot(ax=axes[2],data=data, x=data['POWER']+data['TOTALDEMAND'], hue='STATE', fill=True, alpha=0.1)\n",
    "# axes[2].set_title(\"Test3\")\n",
    "axes[2].set_xlabel('Power+TD')\n",
    "axes[2].set_ylabel('')\n",
    "\n",
    "# axes.set_ylabel('test2')\n",
    "\n",
    "plt.savefig(images+'TestDistribution.png',bbox_inches='tight')"
   ]
  },
  {
   "cell_type": "code",
   "execution_count": null,
   "id": "e071c26d",
   "metadata": {},
   "outputs": [],
   "source": []
  }
 ],
 "metadata": {
  "kernelspec": {
   "display_name": "Python 3 (ipykernel)",
   "language": "python",
   "name": "python3"
  },
  "language_info": {
   "codemirror_mode": {
    "name": "ipython",
    "version": 3
   },
   "file_extension": ".py",
   "mimetype": "text/x-python",
   "name": "python",
   "nbconvert_exporter": "python",
   "pygments_lexer": "ipython3",
   "version": "3.8.8"
  }
 },
 "nbformat": 4,
 "nbformat_minor": 5
}
